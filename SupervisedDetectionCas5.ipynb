{
 "cells": [
  {
   "cell_type": "code",
   "execution_count": 1,
   "metadata": {},
   "outputs": [
    {
     "name": "stdout",
     "output_type": "stream",
     "text": [
      "Starting Spark application\n"
     ]
    },
    {
     "data": {
      "text/html": [
       "<table>\n",
       "<tr><th>ID</th><th>YARN Application ID</th><th>Kind</th><th>State</th><th>Spark UI</th><th>Driver log</th><th>Current session?</th></tr><tr><td>137</td><td>application_1576053140655_0138</td><td>spark</td><td>idle</td><td><a target=\"_blank\" href=\"http://spark-master.local:8088/proxy/application_1576053140655_0138/\">Link</a></td><td><a target=\"_blank\" href=\"http://spark-worker01.local:8042/node/containerlogs/container_1576053140655_0138_01_000001/sparkuser\">Link</a></td><td>✔</td></tr></table>"
      ],
      "text/plain": [
       "<IPython.core.display.HTML object>"
      ]
     },
     "metadata": {},
     "output_type": "display_data"
    },
    {
     "data": {
      "application/vnd.jupyter.widget-view+json": {
       "model_id": "",
       "version_major": 2,
       "version_minor": 0
      },
      "text/plain": [
       "FloatProgress(value=0.0, bar_style='info', description='Progress:', layout=Layout(height='25px', width='50%'),…"
      ]
     },
     "metadata": {},
     "output_type": "display_data"
    },
    {
     "name": "stdout",
     "output_type": "stream",
     "text": [
      "SparkSession available as 'spark'.\n"
     ]
    },
    {
     "data": {
      "application/vnd.jupyter.widget-view+json": {
       "model_id": "",
       "version_major": 2,
       "version_minor": 0
      },
      "text/plain": [
       "FloatProgress(value=0.0, bar_style='info', description='Progress:', layout=Layout(height='25px', width='50%'),…"
      ]
     },
     "metadata": {},
     "output_type": "display_data"
    },
    {
     "name": "stdout",
     "output_type": "stream",
     "text": [
      "import org.apache.spark._\n",
      "import org.apache.spark.sql._\n",
      "import org.apache.spark.rdd.RDD\n",
      "import org.apache.spark.sql.functions._\n",
      "import org.apache.spark.sql.{DataFrame, Row, SparkSession}\n",
      "import org.apache.spark.sql.functions.col\n",
      "import org.apache.spark.ml.feature.{StandardScaler, VectorAssembler, StringIndexer, MinMaxScaler}\n",
      "import org.apache.spark.ml.Pipeline\n",
      "import org.apache.spark.ml.classification.{GBTClassifier, RandomForestClassifier, DecisionTreeClassifier, MultilayerPerceptronClassifier, NaiveBayes, LinearSVC, LogisticRegression, OneVsRest}\n",
      "import org.apache.spark.ml.evaluation.{MulticlassClassificationEvaluator, BinaryClassificationEvaluator}\n",
      "import org.apache.spark.mllib.evaluation.BinaryClassificationMetrics\n",
      "import org.apache.spark.mllib.linalg.Vectors\n",
      "import java.io.{File, PrintWriter}\n",
      "import java.text.SimpleDateFormat\n",
      "import java.util.Calendar\n"
     ]
    }
   ],
   "source": [
    "import org.apache.spark._\n",
    "import org.apache.spark.sql._\n",
    "import org.apache.spark.rdd.RDD\n",
    "import org.apache.spark.sql.functions._\n",
    "import org.apache.spark.sql.{DataFrame, Row, SparkSession}\n",
    "import org.apache.spark.sql.functions.{col}\n",
    "import org.apache.spark.ml.feature.{StandardScaler, VectorAssembler, StringIndexer, MinMaxScaler}\n",
    "import org.apache.spark.ml.{Pipeline}\n",
    "import org.apache.spark.ml.classification.{GBTClassifier, RandomForestClassifier, DecisionTreeClassifier, MultilayerPerceptronClassifier, NaiveBayes, LinearSVC, LogisticRegression, OneVsRest}\n",
    "import org.apache.spark.ml.evaluation.{MulticlassClassificationEvaluator,BinaryClassificationEvaluator}\n",
    "import org.apache.spark.mllib.evaluation.BinaryClassificationMetrics\n",
    "import org.apache.spark.mllib.linalg.Vectors\n",
    "import java.io.{File, PrintWriter}\n",
    "import java.text.SimpleDateFormat\n",
    "import java.util.Calendar"
   ]
  },
  {
   "cell_type": "code",
   "execution_count": 2,
   "metadata": {},
   "outputs": [
    {
     "data": {
      "application/vnd.jupyter.widget-view+json": {
       "model_id": "",
       "version_major": 2,
       "version_minor": 0
      },
      "text/plain": [
       "FloatProgress(value=0.0, bar_style='info', description='Progress:', layout=Layout(height='25px', width='50%'),…"
      ]
     },
     "metadata": {},
     "output_type": "display_data"
    },
    {
     "name": "stdout",
     "output_type": "stream",
     "text": [
      "raw: org.apache.spark.sql.DataFrame = [Time: string, V1: string ... 29 more fields]\n"
     ]
    }
   ],
   "source": [
    "val raw = spark.read.format(\"csv\").option(\"header\", \"true\").option(\"mode\", \"DROPMALFORMED\").csv(\"datasets/creditcard.csv\")"
   ]
  },
  {
   "cell_type": "code",
   "execution_count": 3,
   "metadata": {},
   "outputs": [
    {
     "data": {
      "application/vnd.jupyter.widget-view+json": {
       "model_id": "",
       "version_major": 2,
       "version_minor": 0
      },
      "text/plain": [
       "FloatProgress(value=0.0, bar_style='info', description='Progress:', layout=Layout(height='25px', width='50%'),…"
      ]
     },
     "metadata": {},
     "output_type": "display_data"
    },
    {
     "name": "stdout",
     "output_type": "stream",
     "text": [
      "df: org.apache.spark.sql.DataFrame = [V1: double, V2: double ... 29 more fields]\n"
     ]
    }
   ],
   "source": [
    "// cast all the column to Double type.\n",
    "val df = raw.select(((1 to 28).map(i => \"V\" + i) ++ Array(\"Time\", \"Amount\", \"Class\")).map(s => col(s).cast(\"Double\")): _*)"
   ]
  },
  {
   "cell_type": "code",
   "execution_count": 4,
   "metadata": {},
   "outputs": [
    {
     "data": {
      "application/vnd.jupyter.widget-view+json": {
       "model_id": "",
       "version_major": 2,
       "version_minor": 0
      },
      "text/plain": [
       "FloatProgress(value=0.0, bar_style='info', description='Progress:', layout=Layout(height='25px', width='50%'),…"
      ]
     },
     "metadata": {},
     "output_type": "display_data"
    },
    {
     "name": "stdout",
     "output_type": "stream",
     "text": [
      "labelConverter: org.apache.spark.ml.feature.StringIndexer = strIdx_b52075e99e08\n",
      "assembler: org.apache.spark.ml.feature.VectorAssembler = vecAssembler_82e91ac2d7d7\n",
      "scaler: org.apache.spark.ml.feature.MinMaxScaler = minMaxScal_86f810437633\n",
      "pipeline: org.apache.spark.ml.Pipeline = pipeline_4aeb023e06e5\n",
      "pipelineModel: org.apache.spark.ml.PipelineModel = pipeline_4aeb023e06e5\n",
      "data: org.apache.spark.sql.DataFrame = [V1: double, V2: double ... 32 more fields]\n",
      "Generate feature from raw data:\n",
      "+--------------------+-----+\n",
      "|            features|label|\n",
      "+--------------------+-----+\n",
      "|[0.88136490328633...|  0.0|\n",
      "|[0.84029849039390...|  0.0|\n",
      "|[0.86814081926190...|  0.0|\n",
      "|[0.86848364774806...|  0.0|\n",
      "|[0.86425070140685...|  0.0|\n",
      "|[0.85718742663956...|  0.0|\n",
      "|[0.83819983804773...|  0.0|\n",
      "|[0.85603110871019...|  0.0|\n",
      "|[0.83545216735689...|  0.0|\n",
      "|[0.85551101187934...|  0.0|\n",
      "|[0.85324951634142...|  0.0|\n",
      "|[0.82226325870284...|  0.0|\n",
      "|[0.84406658980857...|  0.0|\n",
      "|[0.85177230541965...|  0.0|\n",
      "|[0.86586281889129...|  0.0|\n",
      "|[0.87306410273210...|  0.0|\n",
      "|[0.85937468703684...|  0.0|\n",
      "|[0.85343546827309...|  0.0|\n",
      "|[0.85797059662233...|  0.0|\n",
      "|[0.84529457208090...|  0.0|\n",
      "+--------------------+-----+\n",
      "only showing top 20 rows\n",
      "\n"
     ]
    }
   ],
   "source": [
    "// convert the label from {0, 1} to {1, 2}\n",
    "//val labelConverter = new FuncTransformer(udf {d: Double => if (d==0) 2 else d }).setInputCol(\"Class\").setOutputCol(\"Class\")\n",
    "val labelConverter = new StringIndexer().setInputCol(\"Class\").setOutputCol(\"label\")\n",
    "val assembler = new VectorAssembler().setInputCols(Array(\"V3\", \"V4\", \"V9\", \"V10\", \"V11\", \"V12\", \"V14\", \"V16\", \"V17\", \"V18\",\"V19\")).setOutputCol(\"assembled\")\n",
    "val scaler = new MinMaxScaler().setInputCol(\"assembled\").setOutputCol(\"features\")\n",
    "//val scaler = new StandardScaler().setInputCol(\"assembled\").setOutputCol(\"features\")\n",
    "val pipeline = new Pipeline().setStages(Array(assembler, scaler, labelConverter))\n",
    "val pipelineModel = pipeline.fit(df)\n",
    "val data = pipelineModel.transform(df)\n",
    "println(\"Generate feature from raw data:\")\n",
    "data.select(\"features\", \"label\").show()"
   ]
  },
  {
   "cell_type": "markdown",
   "metadata": {},
   "source": [
    "### step 2. split the dataset into training and validation dataset."
   ]
  },
  {
   "cell_type": "code",
   "execution_count": 5,
   "metadata": {},
   "outputs": [
    {
     "data": {
      "application/vnd.jupyter.widget-view+json": {
       "model_id": "",
       "version_major": 2,
       "version_minor": 0
      },
      "text/plain": [
       "FloatProgress(value=0.0, bar_style='info', description='Progress:', layout=Layout(height='25px', width='50%'),…"
      ]
     },
     "metadata": {},
     "output_type": "display_data"
    },
    {
     "name": "stdout",
     "output_type": "stream",
     "text": [
      "data0: org.apache.spark.sql.Dataset[org.apache.spark.sql.Row] = [V1: double, V2: double ... 32 more fields]\n",
      "data1: org.apache.spark.sql.Dataset[org.apache.spark.sql.Row] = [V1: double, V2: double ... 32 more fields]\n"
     ]
    }
   ],
   "source": [
    "val data0 = data.filter($\"Class\" === \"0\").cache()\n",
    "val data1 = data.filter($\"Class\" === \"1\").cache()"
   ]
  },
  {
   "cell_type": "code",
   "execution_count": 6,
   "metadata": {},
   "outputs": [
    {
     "data": {
      "application/vnd.jupyter.widget-view+json": {
       "model_id": "",
       "version_major": 2,
       "version_minor": 0
      },
      "text/plain": [
       "FloatProgress(value=0.0, bar_style='info', description='Progress:', layout=Layout(height='25px', width='50%'),…"
      ]
     },
     "metadata": {},
     "output_type": "display_data"
    },
    {
     "name": "stdout",
     "output_type": "stream",
     "text": [
      "splitTime0: Double = 132882.0\n",
      "splitTime1: Double = 35926.0\n",
      "trainingData0: org.apache.spark.sql.Dataset[org.apache.spark.sql.Row] = [V1: double, V2: double ... 32 more fields]\n",
      "validationData0: org.apache.spark.sql.Dataset[org.apache.spark.sql.Row] = [V1: double, V2: double ... 32 more fields]\n",
      "trainingData1: org.apache.spark.sql.Dataset[org.apache.spark.sql.Row] = [V1: double, V2: double ... 32 more fields]\n",
      "validationData1: org.apache.spark.sql.Dataset[org.apache.spark.sql.Row] = [V1: double, V2: double ... 32 more fields]\n"
     ]
    }
   ],
   "source": [
    "val splitTime0 = data0.stat.approxQuantile(\"Time\", Array(0.7), 0.001).head\n",
    "val splitTime1 = data1.stat.approxQuantile(\"Time\", Array(0.2), 0.001).head\n",
    "val trainingData0 = data0.filter(s\"Time<$splitTime0\").cache()\n",
    "val validationData0 = data0.filter(s\"Time>=$splitTime0\").cache()\n",
    "val trainingData1 = data1.filter(s\"Time<$splitTime1\").cache()\n",
    "val validationData1 = data1.filter(s\"Time>=$splitTime1\").cache()"
   ]
  },
  {
   "cell_type": "code",
   "execution_count": 7,
   "metadata": {},
   "outputs": [
    {
     "data": {
      "application/vnd.jupyter.widget-view+json": {
       "model_id": "",
       "version_major": 2,
       "version_minor": 0
      },
      "text/plain": [
       "FloatProgress(value=0.0, bar_style='info', description='Progress:', layout=Layout(height='25px', width='50%'),…"
      ]
     },
     "metadata": {},
     "output_type": "display_data"
    },
    {
     "name": "stdout",
     "output_type": "stream",
     "text": [
      "+------------------+-----+\n",
      "|                V1|Class|\n",
      "+------------------+-----+\n",
      "|  -1.3598071336738|  0.0|\n",
      "|  1.19185711131486|  0.0|\n",
      "| -1.35835406159823|  0.0|\n",
      "|-0.966271711572087|  0.0|\n",
      "| -1.15823309349523|  0.0|\n",
      "|-0.425965884412454|  0.0|\n",
      "|  1.22965763450793|  0.0|\n",
      "|-0.644269442348146|  0.0|\n",
      "| -0.89428608220282|  0.0|\n",
      "| -0.33826175242575|  0.0|\n",
      "+------------------+-----+\n",
      "only showing top 10 rows\n",
      "\n",
      "+-------------------+-----+\n",
      "|                 V1|Class|\n",
      "+-------------------+-----+\n",
      "|   -2.3122265423263|  1.0|\n",
      "|   -3.0435406239976|  1.0|\n",
      "|  -2.30334956758553|  1.0|\n",
      "|  -4.39797444171999|  1.0|\n",
      "|   1.23423504613468|  1.0|\n",
      "|0.00843036489558254|  1.0|\n",
      "| 0.0267792264491516|  1.0|\n",
      "|  0.329594333318222|  1.0|\n",
      "|  0.316459000444982|  1.0|\n",
      "|  0.725645739819857|  1.0|\n",
      "+-------------------+-----+\n",
      "only showing top 10 rows\n",
      "\n"
     ]
    }
   ],
   "source": [
    "trainingData0.select(\"V1\", \"Class\").show(10)\n",
    "trainingData1.select(\"V1\", \"Class\").show(10)"
   ]
  },
  {
   "cell_type": "code",
   "execution_count": 8,
   "metadata": {},
   "outputs": [
    {
     "data": {
      "application/vnd.jupyter.widget-view+json": {
       "model_id": "",
       "version_major": 2,
       "version_minor": 0
      },
      "text/plain": [
       "FloatProgress(value=0.0, bar_style='info', description='Progress:', layout=Layout(height='25px', width='50%'),…"
      ]
     },
     "metadata": {},
     "output_type": "display_data"
    },
    {
     "name": "stdout",
     "output_type": "stream",
     "text": [
      "time0: org.apache.spark.sql.DataFrame = [Time: double]\n",
      "time1: org.apache.spark.sql.DataFrame = [Time: double]\n",
      "+-------+-----------------+\n",
      "|summary|             Time|\n",
      "+-------+-----------------+\n",
      "|  count|           198889|\n",
      "|   mean|70433.87985258109|\n",
      "| stddev|34483.90351654142|\n",
      "|    min|              0.0|\n",
      "|    max|         132881.0|\n",
      "+-------+-----------------+\n",
      "\n",
      "+-------+------------------+\n",
      "|summary|              Time|\n",
      "+-------+------------------+\n",
      "|  count|                98|\n",
      "|   mean|19695.571428571428|\n",
      "| stddev| 9823.899477725412|\n",
      "|    min|             406.0|\n",
      "|    max|           35906.0|\n",
      "+-------+------------------+\n",
      "\n"
     ]
    }
   ],
   "source": [
    "val time0 = trainingData0.select(\"Time\")\n",
    "val time1 = trainingData1.select(\"Time\")\n",
    "time0.describe(\"Time\").show()\n",
    "time1.describe(\"Time\").show()"
   ]
  },
  {
   "cell_type": "code",
   "execution_count": 9,
   "metadata": {},
   "outputs": [
    {
     "data": {
      "application/vnd.jupyter.widget-view+json": {
       "model_id": "",
       "version_major": 2,
       "version_minor": 0
      },
      "text/plain": [
       "FloatProgress(value=0.0, bar_style='info', description='Progress:', layout=Layout(height='25px', width='50%'),…"
      ]
     },
     "metadata": {},
     "output_type": "display_data"
    },
    {
     "name": "stdout",
     "output_type": "stream",
     "text": [
      "time0v: org.apache.spark.sql.DataFrame = [Time: double]\n",
      "time1v: org.apache.spark.sql.DataFrame = [Time: double]\n",
      "+-------+------------------+\n",
      "|summary|              Time|\n",
      "+-------+------------------+\n",
      "|  count|             85426|\n",
      "|   mean| 151656.3990471285|\n",
      "| stddev|10987.155988334218|\n",
      "|    min|          132882.0|\n",
      "|    max|          172792.0|\n",
      "+-------+------------------+\n",
      "\n",
      "+-------+-----------------+\n",
      "|summary|             Time|\n",
      "+-------+-----------------+\n",
      "|  count|              394|\n",
      "|   mean|95932.13959390864|\n",
      "| stddev|40919.16913390304|\n",
      "|    min|          35926.0|\n",
      "|    max|         170348.0|\n",
      "+-------+-----------------+\n",
      "\n"
     ]
    }
   ],
   "source": [
    "val time0v = validationData0.select(\"Time\")\n",
    "val time1v = validationData1.select(\"Time\")\n",
    "time0v.describe(\"Time\").show()\n",
    "time1v.describe(\"Time\").show()"
   ]
  },
  {
   "cell_type": "code",
   "execution_count": 10,
   "metadata": {},
   "outputs": [
    {
     "data": {
      "application/vnd.jupyter.widget-view+json": {
       "model_id": "",
       "version_major": 2,
       "version_minor": 0
      },
      "text/plain": [
       "FloatProgress(value=0.0, bar_style='info', description='Progress:', layout=Layout(height='25px', width='50%'),…"
      ]
     },
     "metadata": {},
     "output_type": "display_data"
    },
    {
     "name": "stdout",
     "output_type": "stream",
     "text": [
      "warning: there was one deprecation warning; re-run with -deprecation for details\n",
      "trainingData: org.apache.spark.sql.Dataset[org.apache.spark.sql.Row] = [V1: double, V2: double ... 32 more fields]\n",
      "warning: there was one deprecation warning; re-run with -deprecation for details\n",
      "validationData: org.apache.spark.sql.Dataset[org.apache.spark.sql.Row] = [V1: double, V2: double ... 32 more fields]\n"
     ]
    }
   ],
   "source": [
    "val trainingData = trainingData0.unionAll(trainingData1)\n",
    "val validationData = validationData0.unionAll(validationData1)"
   ]
  },
  {
   "cell_type": "code",
   "execution_count": 11,
   "metadata": {},
   "outputs": [
    {
     "data": {
      "application/vnd.jupyter.widget-view+json": {
       "model_id": "",
       "version_major": 2,
       "version_minor": 0
      },
      "text/plain": [
       "FloatProgress(value=0.0, bar_style='info', description='Progress:', layout=Layout(height='25px', width='50%'),…"
      ]
     },
     "metadata": {},
     "output_type": "display_data"
    },
    {
     "name": "stdout",
     "output_type": "stream",
     "text": [
      " Training set statistics: 1 represents fraud and 0 represents normal\n",
      "+-----+------+\n",
      "|Class| count|\n",
      "+-----+------+\n",
      "|  0.0|198889|\n",
      "|  1.0|    98|\n",
      "+-----+------+\n",
      "\n",
      " validation set statistics: 1 represents fraud and 0 represents normal\n",
      "+-----+-----+\n",
      "|Class|count|\n",
      "+-----+-----+\n",
      "|  0.0|85426|\n",
      "|  1.0|  394|\n",
      "+-----+-----+\n",
      "\n"
     ]
    }
   ],
   "source": [
    "println(\" Training set statistics: 1 represents fraud and 0 represents normal\")\n",
    "trainingData.groupBy(\"Class\").count().show()\n",
    "println(\" validation set statistics: 1 represents fraud and 0 represents normal\")\n",
    "validationData.groupBy(\"Class\").count().show()"
   ]
  },
  {
   "cell_type": "code",
   "execution_count": 12,
   "metadata": {},
   "outputs": [
    {
     "data": {
      "application/vnd.jupyter.widget-view+json": {
       "model_id": "",
       "version_major": 2,
       "version_minor": 0
      },
      "text/plain": [
       "FloatProgress(value=0.0, bar_style='info', description='Progress:', layout=Layout(height='25px', width='50%'),…"
      ]
     },
     "metadata": {},
     "output_type": "display_data"
    },
    {
     "name": "stdout",
     "output_type": "stream",
     "text": [
      "t: Long = 634824721671153\n",
      "gbt: org.apache.spark.ml.classification.GBTClassifier = gbtc_543701f0be9d\n"
     ]
    }
   ],
   "source": [
    "//Gradient-boosted tree classifier\n",
    "// Train a GBT model.\n",
    "//setImpurity(\"entropy\") \n",
    "val t = System.nanoTime\n",
    "val gbt = new GBTClassifier().setLabelCol(\"label\").setFeaturesCol(\"features\").setMaxIter(10)"
   ]
  },
  {
   "cell_type": "code",
   "execution_count": 13,
   "metadata": {},
   "outputs": [
    {
     "data": {
      "application/vnd.jupyter.widget-view+json": {
       "model_id": "",
       "version_major": 2,
       "version_minor": 0
      },
      "text/plain": [
       "FloatProgress(value=0.0, bar_style='info', description='Progress:', layout=Layout(height='25px', width='50%'),…"
      ]
     },
     "metadata": {},
     "output_type": "display_data"
    },
    {
     "name": "stdout",
     "output_type": "stream",
     "text": [
      "modelGBT: org.apache.spark.ml.classification.GBTClassificationModel = GBTClassificationModel (uid=gbtc_543701f0be9d) with 10 trees\n",
      "durationtrain: Double = 37.349055926\n",
      "\n",
      "initial model training finished.\n",
      "Training process takes 37.349055926 secs\n"
     ]
    }
   ],
   "source": [
    "val modelGBT = gbt.fit(trainingData)\n",
    "val durationtrain = (System.nanoTime - t) / 1e9d\n",
    "println(\"\\ninitial model training finished.\")\n",
    "println(s\"Training process takes $durationtrain secs\")"
   ]
  },
  {
   "cell_type": "code",
   "execution_count": 14,
   "metadata": {},
   "outputs": [
    {
     "data": {
      "application/vnd.jupyter.widget-view+json": {
       "model_id": "",
       "version_major": 2,
       "version_minor": 0
      },
      "text/plain": [
       "FloatProgress(value=0.0, bar_style='info', description='Progress:', layout=Layout(height='25px', width='50%'),…"
      ]
     },
     "metadata": {},
     "output_type": "display_data"
    },
    {
     "name": "stdout",
     "output_type": "stream",
     "text": [
      "s: Long = 634862920934467\n",
      "predictionsGBT: org.apache.spark.sql.DataFrame = [V1: double, V2: double ... 35 more fields]\n",
      "durationprediction: Double = 0.233884456\n",
      "\n",
      "initial model training finished.\n",
      "Training process takes 0.233884456 secs\n",
      "res24: predictionsGBT.type = [V1: double, V2: double ... 35 more fields]\n",
      "+----------+-----+\n",
      "|prediction|label|\n",
      "+----------+-----+\n",
      "|       0.0|  0.0|\n",
      "|       0.0|  0.0|\n",
      "|       0.0|  0.0|\n",
      "|       0.0|  0.0|\n",
      "|       0.0|  0.0|\n",
      "+----------+-----+\n",
      "only showing top 5 rows\n",
      "\n"
     ]
    }
   ],
   "source": [
    "val s = System.nanoTime\n",
    "val predictionsGBT = modelGBT.transform(validationData)\n",
    "val durationprediction = (System.nanoTime - s) / 1e9d\n",
    "println(\"\\ninitial model training finished.\")\n",
    "println(s\"Training process takes $durationprediction secs\")\n",
    "predictionsGBT.cache()\n",
    "//val predictionsAndLabel: RDD[Row] = df.rdd= predictionsGBT.select(\"prediction\", \"label\")\n",
    "predictionsGBT.select(\"prediction\", \"label\").show(5)"
   ]
  },
  {
   "cell_type": "code",
   "execution_count": 15,
   "metadata": {},
   "outputs": [
    {
     "data": {
      "application/vnd.jupyter.widget-view+json": {
       "model_id": "",
       "version_major": 2,
       "version_minor": 0
      },
      "text/plain": [
       "FloatProgress(value=0.0, bar_style='info', description='Progress:', layout=Layout(height='25px', width='50%'),…"
      ]
     },
     "metadata": {},
     "output_type": "display_data"
    },
    {
     "name": "stdout",
     "output_type": "stream",
     "text": [
      "Classified test set :\n",
      "+-----+-----+\n",
      "|Class|count|\n",
      "+-----+-----+\n",
      "|  0.0|85426|\n",
      "|  1.0|  394|\n",
      "+-----+-----+\n",
      "\n",
      "Prediction :\n",
      "+----------+-----+\n",
      "|prediction|count|\n",
      "+----------+-----+\n",
      "|       0.0|85628|\n",
      "|       1.0|  192|\n",
      "+----------+-----+\n",
      "\n"
     ]
    }
   ],
   "source": [
    "println(s\"Classified test set :\")\n",
    "validationData.groupBy(\"Class\").count().show()\n",
    "println(s\"Prediction :\")\n",
    "predictionsGBT.groupBy(\"prediction\").count().show()"
   ]
  },
  {
   "cell_type": "code",
   "execution_count": 16,
   "metadata": {},
   "outputs": [
    {
     "data": {
      "application/vnd.jupyter.widget-view+json": {
       "model_id": "",
       "version_major": 2,
       "version_minor": 0
      },
      "text/plain": [
       "FloatProgress(value=0.0, bar_style='info', description='Progress:', layout=Layout(height='25px', width='50%'),…"
      ]
     },
     "metadata": {},
     "output_type": "display_data"
    },
    {
     "name": "stdout",
     "output_type": "stream",
     "text": [
      "Matrice de confusion :\n",
      "+----------+-----+-----+\n",
      "|prediction|label|count|\n",
      "+----------+-----+-----+\n",
      "|       0.0|  0.0|85417|\n",
      "|       1.0|  0.0|    9|\n",
      "|       0.0|  1.0|  211|\n",
      "|       1.0|  1.0|  183|\n",
      "+----------+-----+-----+\n",
      "\n"
     ]
    }
   ],
   "source": [
    "println(s\"Matrice de confusion :\")\n",
    "predictionsGBT.select(\"prediction\", \"label\").groupBy(\"prediction\", \"label\").count().orderBy(\"label\", \"prediction\").show()"
   ]
  },
  {
   "cell_type": "code",
   "execution_count": 17,
   "metadata": {},
   "outputs": [
    {
     "data": {
      "application/vnd.jupyter.widget-view+json": {
       "model_id": "",
       "version_major": 2,
       "version_minor": 0
      },
      "text/plain": [
       "FloatProgress(value=0.0, bar_style='info', description='Progress:', layout=Layout(height='25px', width='50%'),…"
      ]
     },
     "metadata": {},
     "output_type": "display_data"
    },
    {
     "name": "stdout",
     "output_type": "stream",
     "text": [
      "evaluator1: org.apache.spark.ml.evaluation.MulticlassClassificationEvaluator = mcEval_14a3dbed4e70\n",
      "evaluator2: org.apache.spark.ml.evaluation.MulticlassClassificationEvaluator = mcEval_f61224d91df8\n",
      "evaluator3: org.apache.spark.ml.evaluation.MulticlassClassificationEvaluator = mcEval_0408d33ddfa6\n",
      "evaluator4: org.apache.spark.ml.evaluation.MulticlassClassificationEvaluator = mcEval_067e420355d3\n",
      "areaUnderROC: org.apache.spark.ml.evaluation.BinaryClassificationEvaluator = binEval_e13d9c3d4a29\n",
      "accuracy: Double = 0.9974364949895129\n",
      "Area Under ROC Curve = 0.7321808253671863\n",
      "Accuracy = 0.9974364949895129\n",
      "Precision = 0.9973319623367839\n",
      "Recall = 0.9974364949895129\n",
      "F1 = 0.9969961758536711\n",
      "Test Error = 0.002563505010487077\n"
     ]
    }
   ],
   "source": [
    "val evaluator1 = new MulticlassClassificationEvaluator().setLabelCol(\"label\").setPredictionCol(\"prediction\").setMetricName(\"accuracy\")\n",
    "val evaluator2 = new MulticlassClassificationEvaluator().setLabelCol(\"label\").setPredictionCol(\"prediction\").setMetricName(\"weightedPrecision\")\n",
    "val evaluator3 = new MulticlassClassificationEvaluator().setLabelCol(\"label\").setPredictionCol(\"prediction\").setMetricName(\"weightedRecall\")\n",
    "val evaluator4 = new MulticlassClassificationEvaluator().setLabelCol(\"label\").setPredictionCol(\"prediction\").setMetricName(\"f1\")\n",
    "val areaUnderROC = new BinaryClassificationEvaluator().setRawPredictionCol(\"prediction\").setLabelCol(\"label\").setMetricName(\"areaUnderROC\")\n",
    "val accuracy = evaluator1.evaluate(predictionsGBT)\n",
    "println(\"Area Under ROC Curve = \" + areaUnderROC.evaluate(predictionsGBT))\n",
    "println(\"Accuracy = \" + evaluator1.evaluate(predictionsGBT))\n",
    "println(\"Precision = \" + evaluator2.evaluate(predictionsGBT))\n",
    "println(\"Recall = \" + evaluator3.evaluate(predictionsGBT))\n",
    "println(\"F1 = \" + evaluator4.evaluate(predictionsGBT))\n",
    "println(\"Test Error = \" + (1.0 - accuracy))"
   ]
  },
  {
   "cell_type": "code",
   "execution_count": 18,
   "metadata": {},
   "outputs": [
    {
     "data": {
      "application/vnd.jupyter.widget-view+json": {
       "model_id": "",
       "version_major": 2,
       "version_minor": 0
      },
      "text/plain": [
       "FloatProgress(value=0.0, bar_style='info', description='Progress:', layout=Layout(height='25px', width='50%'),…"
      ]
     },
     "metadata": {},
     "output_type": "display_data"
    },
    {
     "name": "stdout",
     "output_type": "stream",
     "text": [
      "rf: org.apache.spark.ml.classification.RandomForestClassifier = rfc_eaa6a0810c4b\n",
      "t: Long = 634878088317937\n"
     ]
    }
   ],
   "source": [
    "// Random forest classifier\n",
    "// Train a RandomForest model.\n",
    "val rf = new RandomForestClassifier().setLabelCol(\"label\").setFeaturesCol(\"features\").setNumTrees(10)\n",
    "val t = System.nanoTime"
   ]
  },
  {
   "cell_type": "code",
   "execution_count": 19,
   "metadata": {},
   "outputs": [
    {
     "data": {
      "application/vnd.jupyter.widget-view+json": {
       "model_id": "",
       "version_major": 2,
       "version_minor": 0
      },
      "text/plain": [
       "FloatProgress(value=0.0, bar_style='info', description='Progress:', layout=Layout(height='25px', width='50%'),…"
      ]
     },
     "metadata": {},
     "output_type": "display_data"
    },
    {
     "name": "stdout",
     "output_type": "stream",
     "text": [
      "modelRF: org.apache.spark.ml.classification.RandomForestClassificationModel = RandomForestClassificationModel (uid=rfc_eaa6a0810c4b) with 10 trees\n",
      "durationtrain: Double = 7.285872074\n",
      "\n",
      "initial model training finished.\n",
      "Training process takes 7.285872074 secs\n"
     ]
    }
   ],
   "source": [
    "val modelRF = rf.fit(trainingData)\n",
    "val durationtrain = (System.nanoTime - t) / 1e9d\n",
    "println(\"\\ninitial model training finished.\")\n",
    "println(s\"Training process takes $durationtrain secs\")"
   ]
  },
  {
   "cell_type": "code",
   "execution_count": 20,
   "metadata": {},
   "outputs": [
    {
     "data": {
      "application/vnd.jupyter.widget-view+json": {
       "model_id": "",
       "version_major": 2,
       "version_minor": 0
      },
      "text/plain": [
       "FloatProgress(value=0.0, bar_style='info', description='Progress:', layout=Layout(height='25px', width='50%'),…"
      ]
     },
     "metadata": {},
     "output_type": "display_data"
    },
    {
     "name": "stdout",
     "output_type": "stream",
     "text": [
      "s: Long = 634885984064761\n",
      "predictionsRF: org.apache.spark.sql.DataFrame = [V1: double, V2: double ... 35 more fields]\n",
      "durationprediction: Double = 0.220985071\n",
      "\n",
      "initial model training finished.\n",
      "Training process takes 0.220985071 secs\n",
      "+----------+-----+--------------------+\n",
      "|prediction|label|            features|\n",
      "+----------+-----+--------------------+\n",
      "|       0.0|  0.0|[0.83519927540838...|\n",
      "|       0.0|  0.0|[0.81537651325625...|\n",
      "|       0.0|  0.0|[0.80942908533559...|\n",
      "|       0.0|  0.0|[0.82934646499618...|\n",
      "|       0.0|  0.0|[0.84448182135514...|\n",
      "+----------+-----+--------------------+\n",
      "only showing top 5 rows\n",
      "\n"
     ]
    }
   ],
   "source": [
    "val s = System.nanoTime\n",
    "val predictionsRF = modelRF.transform(validationData)\n",
    "val durationprediction = (System.nanoTime - s) / 1e9d\n",
    "println(\"\\ninitial model training finished.\")\n",
    "println(s\"Training process takes $durationprediction secs\")\n",
    "predictionsRF.select(\"prediction\", \"label\", \"features\").show(5)"
   ]
  },
  {
   "cell_type": "code",
   "execution_count": 21,
   "metadata": {},
   "outputs": [
    {
     "data": {
      "application/vnd.jupyter.widget-view+json": {
       "model_id": "",
       "version_major": 2,
       "version_minor": 0
      },
      "text/plain": [
       "FloatProgress(value=0.0, bar_style='info', description='Progress:', layout=Layout(height='25px', width='50%'),…"
      ]
     },
     "metadata": {},
     "output_type": "display_data"
    },
    {
     "name": "stdout",
     "output_type": "stream",
     "text": [
      "Classified test set :\n",
      "+-----+-----+\n",
      "|Class|count|\n",
      "+-----+-----+\n",
      "|  0.0|85426|\n",
      "|  1.0|  394|\n",
      "+-----+-----+\n",
      "\n",
      "Prediction :\n",
      "+----------+-----+\n",
      "|prediction|count|\n",
      "+----------+-----+\n",
      "|       0.0|85605|\n",
      "|       1.0|  215|\n",
      "+----------+-----+\n",
      "\n"
     ]
    }
   ],
   "source": [
    "println(s\"Classified test set :\")\n",
    "validationData.groupBy(\"Class\").count().show()\n",
    "println(s\"Prediction :\")\n",
    "predictionsRF.groupBy(\"prediction\").count().show()"
   ]
  },
  {
   "cell_type": "code",
   "execution_count": 22,
   "metadata": {},
   "outputs": [
    {
     "data": {
      "application/vnd.jupyter.widget-view+json": {
       "model_id": "",
       "version_major": 2,
       "version_minor": 0
      },
      "text/plain": [
       "FloatProgress(value=0.0, bar_style='info', description='Progress:', layout=Layout(height='25px', width='50%'),…"
      ]
     },
     "metadata": {},
     "output_type": "display_data"
    },
    {
     "name": "stdout",
     "output_type": "stream",
     "text": [
      "Matrice de confusion :\n",
      "+----------+-----+-----+\n",
      "|prediction|label|count|\n",
      "+----------+-----+-----+\n",
      "|       0.0|  0.0|85425|\n",
      "|       1.0|  0.0|    1|\n",
      "|       0.0|  1.0|  180|\n",
      "|       1.0|  1.0|  214|\n",
      "+----------+-----+-----+\n",
      "\n"
     ]
    }
   ],
   "source": [
    "println(s\"Matrice de confusion :\")\n",
    "predictionsRF.select(\"prediction\", \"label\").groupBy(\"prediction\", \"label\").count().orderBy(\"label\", \"prediction\").show()"
   ]
  },
  {
   "cell_type": "code",
   "execution_count": 23,
   "metadata": {},
   "outputs": [
    {
     "data": {
      "application/vnd.jupyter.widget-view+json": {
       "model_id": "",
       "version_major": 2,
       "version_minor": 0
      },
      "text/plain": [
       "FloatProgress(value=0.0, bar_style='info', description='Progress:', layout=Layout(height='25px', width='50%'),…"
      ]
     },
     "metadata": {},
     "output_type": "display_data"
    },
    {
     "name": "stdout",
     "output_type": "stream",
     "text": [
      "evaluator1: org.apache.spark.ml.evaluation.MulticlassClassificationEvaluator = mcEval_066ac2ec6ec6\n",
      "areaUnderROC: org.apache.spark.ml.evaluation.BinaryClassificationEvaluator = binEval_be44b81f5bc4\n",
      "accuracy: Double = 0.9978909345140993\n",
      "Area Under ROC Curve = 0.7715677510419264\n",
      "Accuracy = 0.9978909345140993\n",
      "Test Error = 0.0021090654859007296\n"
     ]
    }
   ],
   "source": [
    "val evaluator1 = new MulticlassClassificationEvaluator().setLabelCol(\"label\").setPredictionCol(\"prediction\").setMetricName(\"accuracy\")\n",
    "val areaUnderROC = new BinaryClassificationEvaluator().setRawPredictionCol(\"prediction\").setLabelCol(\"label\").setMetricName(\"areaUnderROC\")\n",
    "val accuracy = evaluator1.evaluate(predictionsRF)\n",
    "println(\"Area Under ROC Curve = \" + areaUnderROC.evaluate(predictionsRF))\n",
    "println(\"Accuracy = \" + evaluator1.evaluate(predictionsRF))\n",
    "println(\"Test Error = \" + (1.0 - accuracy))"
   ]
  },
  {
   "cell_type": "code",
   "execution_count": 24,
   "metadata": {},
   "outputs": [
    {
     "data": {
      "application/vnd.jupyter.widget-view+json": {
       "model_id": "",
       "version_major": 2,
       "version_minor": 0
      },
      "text/plain": [
       "FloatProgress(value=0.0, bar_style='info', description='Progress:', layout=Layout(height='25px', width='50%'),…"
      ]
     },
     "metadata": {},
     "output_type": "display_data"
    },
    {
     "name": "stdout",
     "output_type": "stream",
     "text": [
      "dt: org.apache.spark.ml.classification.DecisionTreeClassifier = dtc_7bbd8d7a9b2b\n",
      "t: Long = 634896125982293\n"
     ]
    }
   ],
   "source": [
    "// Decision Tree classifier\n",
    "// Train a DecisionTree model.\n",
    "val dt = new DecisionTreeClassifier().setLabelCol(\"label\").setFeaturesCol(\"features\")\n",
    "val t = System.nanoTime"
   ]
  },
  {
   "cell_type": "code",
   "execution_count": 25,
   "metadata": {},
   "outputs": [
    {
     "data": {
      "application/vnd.jupyter.widget-view+json": {
       "model_id": "",
       "version_major": 2,
       "version_minor": 0
      },
      "text/plain": [
       "FloatProgress(value=0.0, bar_style='info', description='Progress:', layout=Layout(height='25px', width='50%'),…"
      ]
     },
     "metadata": {},
     "output_type": "display_data"
    },
    {
     "name": "stdout",
     "output_type": "stream",
     "text": [
      "modelDT: org.apache.spark.ml.classification.DecisionTreeClassificationModel = DecisionTreeClassificationModel (uid=dtc_7bbd8d7a9b2b) of depth 5 with 19 nodes\n",
      "durationtrain: Double = 3.740223603\n",
      "\n",
      "initial model training finished.\n",
      "Training process takes 3.740223603 secs\n"
     ]
    }
   ],
   "source": [
    "val modelDT = dt.fit(trainingData)\n",
    "val durationtrain = (System.nanoTime - t) / 1e9d\n",
    "println(\"\\ninitial model training finished.\")\n",
    "println(s\"Training process takes $durationtrain secs\")"
   ]
  },
  {
   "cell_type": "code",
   "execution_count": 26,
   "metadata": {},
   "outputs": [
    {
     "data": {
      "application/vnd.jupyter.widget-view+json": {
       "model_id": "",
       "version_major": 2,
       "version_minor": 0
      },
      "text/plain": [
       "FloatProgress(value=0.0, bar_style='info', description='Progress:', layout=Layout(height='25px', width='50%'),…"
      ]
     },
     "metadata": {},
     "output_type": "display_data"
    },
    {
     "name": "stdout",
     "output_type": "stream",
     "text": [
      "s: Long = 634902015708853\n",
      "predictionsDT: org.apache.spark.sql.DataFrame = [V1: double, V2: double ... 35 more fields]\n",
      "durationprediction: Double = 0.213650972\n",
      "\n",
      "initial model training finished.\n",
      "Training process takes 0.213650972 secs\n",
      "+----------+-----+--------------------+\n",
      "|prediction|label|            features|\n",
      "+----------+-----+--------------------+\n",
      "|       0.0|  0.0|[0.83519927540838...|\n",
      "|       0.0|  0.0|[0.81537651325625...|\n",
      "|       0.0|  0.0|[0.80942908533559...|\n",
      "|       0.0|  0.0|[0.82934646499618...|\n",
      "|       0.0|  0.0|[0.84448182135514...|\n",
      "+----------+-----+--------------------+\n",
      "only showing top 5 rows\n",
      "\n"
     ]
    }
   ],
   "source": [
    "val s = System.nanoTime\n",
    "val predictionsDT = modelDT.transform(validationData)\n",
    "val durationprediction = (System.nanoTime - s) / 1e9d\n",
    "println(\"\\ninitial model training finished.\")\n",
    "println(s\"Training process takes $durationprediction secs\")\n",
    "predictionsDT.select(\"prediction\", \"label\", \"features\").show(5)"
   ]
  },
  {
   "cell_type": "code",
   "execution_count": 27,
   "metadata": {},
   "outputs": [
    {
     "data": {
      "application/vnd.jupyter.widget-view+json": {
       "model_id": "",
       "version_major": 2,
       "version_minor": 0
      },
      "text/plain": [
       "FloatProgress(value=0.0, bar_style='info', description='Progress:', layout=Layout(height='25px', width='50%'),…"
      ]
     },
     "metadata": {},
     "output_type": "display_data"
    },
    {
     "name": "stdout",
     "output_type": "stream",
     "text": [
      "Classified test set :\n",
      "+-----+-----+\n",
      "|Class|count|\n",
      "+-----+-----+\n",
      "|  0.0|85426|\n",
      "|  1.0|  394|\n",
      "+-----+-----+\n",
      "\n",
      "Prediction :\n",
      "+----------+-----+\n",
      "|prediction|count|\n",
      "+----------+-----+\n",
      "|       0.0|85634|\n",
      "|       1.0|  186|\n",
      "+----------+-----+\n",
      "\n"
     ]
    }
   ],
   "source": [
    "println(s\"Classified test set :\")\n",
    "validationData.groupBy(\"Class\").count().show()\n",
    "println(s\"Prediction :\")\n",
    "predictionsDT.groupBy(\"prediction\").count().show()"
   ]
  },
  {
   "cell_type": "code",
   "execution_count": 28,
   "metadata": {},
   "outputs": [
    {
     "data": {
      "application/vnd.jupyter.widget-view+json": {
       "model_id": "",
       "version_major": 2,
       "version_minor": 0
      },
      "text/plain": [
       "FloatProgress(value=0.0, bar_style='info', description='Progress:', layout=Layout(height='25px', width='50%'),…"
      ]
     },
     "metadata": {},
     "output_type": "display_data"
    },
    {
     "name": "stdout",
     "output_type": "stream",
     "text": [
      "Matrice de confusion :\n",
      "+----------+-----+-----+\n",
      "|prediction|label|count|\n",
      "+----------+-----+-----+\n",
      "|       0.0|  0.0|85424|\n",
      "|       1.0|  0.0|    2|\n",
      "|       0.0|  1.0|  210|\n",
      "|       1.0|  1.0|  184|\n",
      "+----------+-----+-----+\n",
      "\n"
     ]
    }
   ],
   "source": [
    "println(s\"Matrice de confusion :\")\n",
    "predictionsDT.select(\"prediction\", \"label\").groupBy(\"prediction\", \"label\").count().orderBy(\"label\", \"prediction\").show()"
   ]
  },
  {
   "cell_type": "code",
   "execution_count": 29,
   "metadata": {},
   "outputs": [
    {
     "data": {
      "application/vnd.jupyter.widget-view+json": {
       "model_id": "",
       "version_major": 2,
       "version_minor": 0
      },
      "text/plain": [
       "FloatProgress(value=0.0, bar_style='info', description='Progress:', layout=Layout(height='25px', width='50%'),…"
      ]
     },
     "metadata": {},
     "output_type": "display_data"
    },
    {
     "name": "stdout",
     "output_type": "stream",
     "text": [
      "evaluator1: org.apache.spark.ml.evaluation.MulticlassClassificationEvaluator = mcEval_d5962a985626\n",
      "areaUnderROC: org.apache.spark.ml.evaluation.BinaryClassificationEvaluator = binEval_885b3fcc053a\n",
      "accuracy: Double = 0.9975297133535307\n",
      "Area Under ROC Curve = 0.7334908320330916\n",
      "Accuracy = 0.9975297133535307\n",
      "Test Error = 0.0024702866464693107\n"
     ]
    }
   ],
   "source": [
    "val evaluator1 = new MulticlassClassificationEvaluator().setLabelCol(\"label\").setPredictionCol(\"prediction\").setMetricName(\"accuracy\")\n",
    "val areaUnderROC = new BinaryClassificationEvaluator().setRawPredictionCol(\"prediction\").setLabelCol(\"label\").setMetricName(\"areaUnderROC\")\n",
    "val accuracy = evaluator1.evaluate(predictionsDT)\n",
    "println(\"Area Under ROC Curve = \" + areaUnderROC.evaluate(predictionsDT))\n",
    "println(\"Accuracy = \" + evaluator1.evaluate(predictionsDT))\n",
    "println(\"Test Error = \" + (1.0 - accuracy))"
   ]
  },
  {
   "cell_type": "code",
   "execution_count": 30,
   "metadata": {},
   "outputs": [
    {
     "data": {
      "application/vnd.jupyter.widget-view+json": {
       "model_id": "",
       "version_major": 2,
       "version_minor": 0
      },
      "text/plain": [
       "FloatProgress(value=0.0, bar_style='info', description='Progress:', layout=Layout(height='25px', width='50%'),…"
      ]
     },
     "metadata": {},
     "output_type": "display_data"
    },
    {
     "name": "stdout",
     "output_type": "stream",
     "text": [
      "svm: org.apache.spark.ml.classification.LinearSVC = linearsvc_ea3bdf244cae\n",
      "t: Long = 634910124795369\n"
     ]
    }
   ],
   "source": [
    "// SVM classifier\n",
    "// Train a SVM model.\n",
    "val svm = new LinearSVC().setLabelCol(\"label\").setFeaturesCol(\"features\").setMaxIter(100).setRegParam(0.1) \n",
    "val t = System.nanoTime"
   ]
  },
  {
   "cell_type": "code",
   "execution_count": 31,
   "metadata": {},
   "outputs": [
    {
     "data": {
      "application/vnd.jupyter.widget-view+json": {
       "model_id": "",
       "version_major": 2,
       "version_minor": 0
      },
      "text/plain": [
       "FloatProgress(value=0.0, bar_style='info', description='Progress:', layout=Layout(height='25px', width='50%'),…"
      ]
     },
     "metadata": {},
     "output_type": "display_data"
    },
    {
     "name": "stdout",
     "output_type": "stream",
     "text": [
      "modelSVM: org.apache.spark.ml.classification.LinearSVCModel = linearsvc_ea3bdf244cae\n",
      "durationtrain: Double = 48.22468486\n",
      "\n",
      "initial model training finished.\n",
      "Training process takes 48.22468486 secs\n"
     ]
    }
   ],
   "source": [
    "val modelSVM = svm.fit(trainingData)\n",
    "val durationtrain = (System.nanoTime - t) / 1e9d\n",
    "println(\"\\ninitial model training finished.\")\n",
    "println(s\"Training process takes $durationtrain secs\")"
   ]
  },
  {
   "cell_type": "code",
   "execution_count": 32,
   "metadata": {},
   "outputs": [
    {
     "data": {
      "application/vnd.jupyter.widget-view+json": {
       "model_id": "",
       "version_major": 2,
       "version_minor": 0
      },
      "text/plain": [
       "FloatProgress(value=0.0, bar_style='info', description='Progress:', layout=Layout(height='25px', width='50%'),…"
      ]
     },
     "metadata": {},
     "output_type": "display_data"
    },
    {
     "name": "stdout",
     "output_type": "stream",
     "text": [
      "s: Long = 634960737026960\n",
      "predictionsSVM: org.apache.spark.sql.DataFrame = [V1: double, V2: double ... 34 more fields]\n",
      "durationprediction: Double = 0.21152174\n",
      "\n",
      "initial model training finished.\n",
      "Training process takes 0.21152174 secs\n",
      "+----------+-----+--------------------+\n",
      "|prediction|label|            features|\n",
      "+----------+-----+--------------------+\n",
      "|       0.0|  0.0|[0.83519927540838...|\n",
      "|       0.0|  0.0|[0.81537651325625...|\n",
      "|       0.0|  0.0|[0.80942908533559...|\n",
      "|       0.0|  0.0|[0.82934646499618...|\n",
      "|       0.0|  0.0|[0.84448182135514...|\n",
      "+----------+-----+--------------------+\n",
      "only showing top 5 rows\n",
      "\n"
     ]
    }
   ],
   "source": [
    "val s = System.nanoTime\n",
    "val predictionsSVM = modelSVM.transform(validationData)\n",
    "val durationprediction = (System.nanoTime - s) / 1e9d\n",
    "println(\"\\ninitial model training finished.\")\n",
    "println(s\"Training process takes $durationprediction secs\")\n",
    "predictionsSVM.select(\"prediction\", \"label\", \"features\").show(5)"
   ]
  },
  {
   "cell_type": "code",
   "execution_count": 33,
   "metadata": {},
   "outputs": [
    {
     "data": {
      "application/vnd.jupyter.widget-view+json": {
       "model_id": "",
       "version_major": 2,
       "version_minor": 0
      },
      "text/plain": [
       "FloatProgress(value=0.0, bar_style='info', description='Progress:', layout=Layout(height='25px', width='50%'),…"
      ]
     },
     "metadata": {},
     "output_type": "display_data"
    },
    {
     "name": "stdout",
     "output_type": "stream",
     "text": [
      "Classified test set :\n",
      "+-----+-----+\n",
      "|Class|count|\n",
      "+-----+-----+\n",
      "|  0.0|85426|\n",
      "|  1.0|  394|\n",
      "+-----+-----+\n",
      "\n",
      "Prediction :\n",
      "+----------+-----+\n",
      "|prediction|count|\n",
      "+----------+-----+\n",
      "|       0.0|85820|\n",
      "+----------+-----+\n",
      "\n"
     ]
    }
   ],
   "source": [
    "println(s\"Classified test set :\")\n",
    "validationData.groupBy(\"Class\").count().show()\n",
    "println(s\"Prediction :\")\n",
    "predictionsSVM.groupBy(\"prediction\").count().show()"
   ]
  },
  {
   "cell_type": "code",
   "execution_count": 34,
   "metadata": {},
   "outputs": [
    {
     "data": {
      "application/vnd.jupyter.widget-view+json": {
       "model_id": "",
       "version_major": 2,
       "version_minor": 0
      },
      "text/plain": [
       "FloatProgress(value=0.0, bar_style='info', description='Progress:', layout=Layout(height='25px', width='50%'),…"
      ]
     },
     "metadata": {},
     "output_type": "display_data"
    },
    {
     "name": "stdout",
     "output_type": "stream",
     "text": [
      "Matrice de confusion :\n",
      "+----------+-----+-----+\n",
      "|prediction|label|count|\n",
      "+----------+-----+-----+\n",
      "|       0.0|  0.0|85426|\n",
      "|       0.0|  1.0|  394|\n",
      "+----------+-----+-----+\n",
      "\n"
     ]
    }
   ],
   "source": [
    "println(s\"Matrice de confusion :\")\n",
    "predictionsSVM.select(\"prediction\", \"label\").groupBy(\"prediction\", \"label\").count().orderBy(\"label\", \"prediction\").show()"
   ]
  },
  {
   "cell_type": "code",
   "execution_count": 35,
   "metadata": {},
   "outputs": [
    {
     "data": {
      "application/vnd.jupyter.widget-view+json": {
       "model_id": "",
       "version_major": 2,
       "version_minor": 0
      },
      "text/plain": [
       "FloatProgress(value=0.0, bar_style='info', description='Progress:', layout=Layout(height='25px', width='50%'),…"
      ]
     },
     "metadata": {},
     "output_type": "display_data"
    },
    {
     "name": "stdout",
     "output_type": "stream",
     "text": [
      "evaluator1: org.apache.spark.ml.evaluation.MulticlassClassificationEvaluator = mcEval_08bb8af8c391\n",
      "areaUnderROC: org.apache.spark.ml.evaluation.BinaryClassificationEvaluator = binEval_2b9071cccc2c\n",
      "accuracy: Double = 0.9954089955721277\n",
      "Area Under ROC Curve = 0.5\n",
      "Accuracy = 0.9954089955721277\n",
      "Test Error = 0.004591004427872303\n"
     ]
    }
   ],
   "source": [
    "val evaluator1 = new MulticlassClassificationEvaluator().setLabelCol(\"label\").setPredictionCol(\"prediction\").setMetricName(\"accuracy\")\n",
    "val areaUnderROC = new BinaryClassificationEvaluator().setRawPredictionCol(\"prediction\").setLabelCol(\"label\").setMetricName(\"areaUnderROC\")\n",
    "val accuracy = evaluator1.evaluate(predictionsSVM)\n",
    "println(\"Area Under ROC Curve = \" + areaUnderROC.evaluate(predictionsSVM))\n",
    "println(\"Accuracy = \" + evaluator1.evaluate(predictionsSVM))\n",
    "println(\"Test Error = \" + (1.0 - accuracy))"
   ]
  },
  {
   "cell_type": "code",
   "execution_count": 36,
   "metadata": {},
   "outputs": [
    {
     "data": {
      "application/vnd.jupyter.widget-view+json": {
       "model_id": "",
       "version_major": 2,
       "version_minor": 0
      },
      "text/plain": [
       "FloatProgress(value=0.0, bar_style='info', description='Progress:', layout=Layout(height='25px', width='50%'),…"
      ]
     },
     "metadata": {},
     "output_type": "display_data"
    },
    {
     "name": "stdout",
     "output_type": "stream",
     "text": [
      "lr: org.apache.spark.ml.classification.LogisticRegression = logreg_2b7735b0be5b\n",
      "t: Long = 634968885588303\n"
     ]
    }
   ],
   "source": [
    "// Logistic Regression classifier\n",
    "val lr = new LogisticRegression().setLabelCol(\"label\").setFeaturesCol(\"features\").setMaxIter(10).setTol(1E-6).setFitIntercept(true) \n",
    "val t = System.nanoTime"
   ]
  },
  {
   "cell_type": "code",
   "execution_count": 37,
   "metadata": {},
   "outputs": [
    {
     "data": {
      "application/vnd.jupyter.widget-view+json": {
       "model_id": "",
       "version_major": 2,
       "version_minor": 0
      },
      "text/plain": [
       "FloatProgress(value=0.0, bar_style='info', description='Progress:', layout=Layout(height='25px', width='50%'),…"
      ]
     },
     "metadata": {},
     "output_type": "display_data"
    },
    {
     "name": "stdout",
     "output_type": "stream",
     "text": [
      "Modellr: org.apache.spark.ml.classification.LogisticRegressionModel = LogisticRegressionModel: uid = logreg_2b7735b0be5b, numClasses = 2, numFeatures = 11\n",
      "durationtrain: Double = 5.521060701\n",
      "\n",
      "initial model training finished.\n",
      "Training process takes 5.521060701 secs\n"
     ]
    }
   ],
   "source": [
    "val Modellr = lr.fit(trainingData)\n",
    "val durationtrain = (System.nanoTime - t) / 1e9d\n",
    "println(\"\\ninitial model training finished.\")\n",
    "println(s\"Training process takes $durationtrain secs\")"
   ]
  },
  {
   "cell_type": "code",
   "execution_count": 38,
   "metadata": {},
   "outputs": [
    {
     "data": {
      "application/vnd.jupyter.widget-view+json": {
       "model_id": "",
       "version_major": 2,
       "version_minor": 0
      },
      "text/plain": [
       "FloatProgress(value=0.0, bar_style='info', description='Progress:', layout=Layout(height='25px', width='50%'),…"
      ]
     },
     "metadata": {},
     "output_type": "display_data"
    },
    {
     "name": "stdout",
     "output_type": "stream",
     "text": [
      "s: Long = 634976796879101\n",
      "predictionsLR: org.apache.spark.sql.DataFrame = [V1: double, V2: double ... 35 more fields]\n",
      "durationprediction: Double = 0.261064914\n",
      "\n",
      "initial model training finished.\n",
      "Training process takes 0.261064914 secs\n",
      "+----------+-----+--------------------+\n",
      "|prediction|label|            features|\n",
      "+----------+-----+--------------------+\n",
      "|       0.0|  0.0|[0.83519927540838...|\n",
      "|       0.0|  0.0|[0.81537651325625...|\n",
      "|       0.0|  0.0|[0.80942908533559...|\n",
      "|       0.0|  0.0|[0.82934646499618...|\n",
      "|       0.0|  0.0|[0.84448182135514...|\n",
      "+----------+-----+--------------------+\n",
      "only showing top 5 rows\n",
      "\n"
     ]
    }
   ],
   "source": [
    "val s = System.nanoTime\n",
    "val predictionsLR = Modellr.transform(validationData)\n",
    "val durationprediction = (System.nanoTime - s) / 1e9d\n",
    "println(\"\\ninitial model training finished.\")\n",
    "println(s\"Training process takes $durationprediction secs\")\n",
    "predictionsLR.select(\"prediction\", \"label\", \"features\").show(5)"
   ]
  },
  {
   "cell_type": "code",
   "execution_count": 39,
   "metadata": {},
   "outputs": [
    {
     "data": {
      "application/vnd.jupyter.widget-view+json": {
       "model_id": "",
       "version_major": 2,
       "version_minor": 0
      },
      "text/plain": [
       "FloatProgress(value=0.0, bar_style='info', description='Progress:', layout=Layout(height='25px', width='50%'),…"
      ]
     },
     "metadata": {},
     "output_type": "display_data"
    },
    {
     "name": "stdout",
     "output_type": "stream",
     "text": [
      "Classified test set :\n",
      "+-----+-----+\n",
      "|Class|count|\n",
      "+-----+-----+\n",
      "|  0.0|85426|\n",
      "|  1.0|  394|\n",
      "+-----+-----+\n",
      "\n",
      "Prediction :\n",
      "+----------+-----+\n",
      "|prediction|count|\n",
      "+----------+-----+\n",
      "|       0.0|85730|\n",
      "|       1.0|   90|\n",
      "+----------+-----+\n",
      "\n"
     ]
    }
   ],
   "source": [
    "println(s\"Classified test set :\")\n",
    "validationData.groupBy(\"Class\").count().show()\n",
    "println(s\"Prediction :\")\n",
    "predictionsLR.groupBy(\"prediction\").count().show()"
   ]
  },
  {
   "cell_type": "code",
   "execution_count": 40,
   "metadata": {},
   "outputs": [
    {
     "data": {
      "application/vnd.jupyter.widget-view+json": {
       "model_id": "",
       "version_major": 2,
       "version_minor": 0
      },
      "text/plain": [
       "FloatProgress(value=0.0, bar_style='info', description='Progress:', layout=Layout(height='25px', width='50%'),…"
      ]
     },
     "metadata": {},
     "output_type": "display_data"
    },
    {
     "name": "stdout",
     "output_type": "stream",
     "text": [
      "Matrice de confusion :\n",
      "+----------+-----+-----+\n",
      "|prediction|label|count|\n",
      "+----------+-----+-----+\n",
      "|       0.0|  0.0|85426|\n",
      "|       0.0|  1.0|  304|\n",
      "|       1.0|  1.0|   90|\n",
      "+----------+-----+-----+\n",
      "\n"
     ]
    }
   ],
   "source": [
    "println(s\"Matrice de confusion :\")\n",
    "predictionsLR.select(\"prediction\", \"label\").groupBy(\"prediction\", \"label\").count().orderBy(\"label\", \"prediction\").show()"
   ]
  },
  {
   "cell_type": "code",
   "execution_count": 41,
   "metadata": {},
   "outputs": [
    {
     "data": {
      "application/vnd.jupyter.widget-view+json": {
       "model_id": "",
       "version_major": 2,
       "version_minor": 0
      },
      "text/plain": [
       "FloatProgress(value=0.0, bar_style='info', description='Progress:', layout=Layout(height='25px', width='50%'),…"
      ]
     },
     "metadata": {},
     "output_type": "display_data"
    },
    {
     "name": "stdout",
     "output_type": "stream",
     "text": [
      "evaluator1: org.apache.spark.ml.evaluation.MulticlassClassificationEvaluator = mcEval_19655dc502f5\n",
      "evaluator2: org.apache.spark.ml.evaluation.MulticlassClassificationEvaluator = mcEval_25c7900f0f31\n",
      "evaluator3: org.apache.spark.ml.evaluation.MulticlassClassificationEvaluator = mcEval_2e18945e63ee\n",
      "evaluator4: org.apache.spark.ml.evaluation.MulticlassClassificationEvaluator = mcEval_e8f5f75623a5\n",
      "areaUnderROC: org.apache.spark.ml.evaluation.BinaryClassificationEvaluator = binEval_d64ed42fdbb9\n",
      "accuracy: Double = 0.996457702167327\n",
      "Area Under ROC Curve = 0.6142131979695431\n",
      "Accuracy = 0.996457702167327\n",
      "Precision = 0.9964702632141149\n",
      "Recall = 0.996457702167327\n",
      "F1 = 0.9953483908360317\n",
      "Test Error = 0.0035422978326730137\n"
     ]
    }
   ],
   "source": [
    "val evaluator1 = new MulticlassClassificationEvaluator().setLabelCol(\"label\").setPredictionCol(\"prediction\").setMetricName(\"accuracy\")\n",
    "val evaluator2 = new MulticlassClassificationEvaluator().setLabelCol(\"label\").setPredictionCol(\"prediction\").setMetricName(\"weightedPrecision\")\n",
    "val evaluator3 = new MulticlassClassificationEvaluator().setLabelCol(\"label\").setPredictionCol(\"prediction\").setMetricName(\"weightedRecall\")\n",
    "val evaluator4 = new MulticlassClassificationEvaluator().setLabelCol(\"label\").setPredictionCol(\"prediction\").setMetricName(\"f1\")\n",
    "val areaUnderROC = new BinaryClassificationEvaluator().setRawPredictionCol(\"prediction\").setLabelCol(\"label\").setMetricName(\"areaUnderROC\")\n",
    "val accuracy = evaluator1.evaluate(predictionsLR)\n",
    "println(\"Area Under ROC Curve = \" + areaUnderROC.evaluate(predictionsLR))\n",
    "println(\"Accuracy = \" + evaluator1.evaluate(predictionsLR))\n",
    "println(\"Precision = \" + evaluator2.evaluate(predictionsLR))\n",
    "println(\"Recall = \" + evaluator3.evaluate(predictionsLR))\n",
    "println(\"F1 = \" + evaluator4.evaluate(predictionsLR))\n",
    "println(\"Test Error = \" + (1.0 - accuracy))"
   ]
  },
  {
   "cell_type": "code",
   "execution_count": 42,
   "metadata": {},
   "outputs": [
    {
     "data": {
      "application/vnd.jupyter.widget-view+json": {
       "model_id": "",
       "version_major": 2,
       "version_minor": 0
      },
      "text/plain": [
       "FloatProgress(value=0.0, bar_style='info', description='Progress:', layout=Layout(height='25px', width='50%'),…"
      ]
     },
     "metadata": {},
     "output_type": "display_data"
    },
    {
     "name": "stdout",
     "output_type": "stream",
     "text": [
      "nb: org.apache.spark.ml.classification.NaiveBayes = nb_ad8f33c6d9c7\n",
      "t: Long = 634988931189986\n"
     ]
    }
   ],
   "source": [
    "// Naive Bayes classifier\n",
    "// Train a NaiveBayes model.\n",
    "val nb = new NaiveBayes().setLabelCol(\"label\").setFeaturesCol(\"features\").setSmoothing(1.0)\n",
    "val t = System.nanoTime"
   ]
  },
  {
   "cell_type": "code",
   "execution_count": 43,
   "metadata": {},
   "outputs": [
    {
     "data": {
      "application/vnd.jupyter.widget-view+json": {
       "model_id": "",
       "version_major": 2,
       "version_minor": 0
      },
      "text/plain": [
       "FloatProgress(value=0.0, bar_style='info', description='Progress:', layout=Layout(height='25px', width='50%'),…"
      ]
     },
     "metadata": {},
     "output_type": "display_data"
    }
   ],
   "source": [
    "/*val scaler = new MinMaxScaler().setInputCol(\"features\").setOutputCol(\"featuresScaled\")\n",
    "val pipeline = new Pipeline().setStages(Array(scaler))\n",
    "val pipelineModel1 = pipeline.fit(trainingData)\n",
    "val pipelineModel2 = pipeline.fit(trainingData)\n",
    "val datatrain = pipelineModel1.transform(trainingData)\n",
    "val datatest = pipelineModel2.transform(validationData)*/"
   ]
  },
  {
   "cell_type": "code",
   "execution_count": 44,
   "metadata": {},
   "outputs": [
    {
     "data": {
      "application/vnd.jupyter.widget-view+json": {
       "model_id": "",
       "version_major": 2,
       "version_minor": 0
      },
      "text/plain": [
       "FloatProgress(value=0.0, bar_style='info', description='Progress:', layout=Layout(height='25px', width='50%'),…"
      ]
     },
     "metadata": {},
     "output_type": "display_data"
    },
    {
     "name": "stdout",
     "output_type": "stream",
     "text": [
      "modelNB: org.apache.spark.ml.classification.NaiveBayesModel = NaiveBayesModel (uid=nb_ad8f33c6d9c7) with 2 classes\n",
      "durationtrain: Double = 1.56790144\n",
      "\n",
      "initial model training finished.\n",
      "Training process takes 1.56790144 secs\n"
     ]
    }
   ],
   "source": [
    "val modelNB = nb.fit(trainingData)\n",
    "val durationtrain = (System.nanoTime - t) / 1e9d\n",
    "println(\"\\ninitial model training finished.\")\n",
    "println(s\"Training process takes $durationtrain secs\")"
   ]
  },
  {
   "cell_type": "code",
   "execution_count": 45,
   "metadata": {},
   "outputs": [
    {
     "data": {
      "application/vnd.jupyter.widget-view+json": {
       "model_id": "",
       "version_major": 2,
       "version_minor": 0
      },
      "text/plain": [
       "FloatProgress(value=0.0, bar_style='info', description='Progress:', layout=Layout(height='25px', width='50%'),…"
      ]
     },
     "metadata": {},
     "output_type": "display_data"
    },
    {
     "name": "stdout",
     "output_type": "stream",
     "text": [
      "s: Long = 634992627785381\n",
      "predictionsNB: org.apache.spark.sql.DataFrame = [V1: double, V2: double ... 35 more fields]\n",
      "durationprediction: Double = 0.248656706\n",
      "\n",
      "initial model training finished.\n",
      "Training process takes 0.248656706 secs\n",
      "+----------+-----+\n",
      "|prediction|label|\n",
      "+----------+-----+\n",
      "|       0.0|  0.0|\n",
      "|       0.0|  0.0|\n",
      "|       0.0|  0.0|\n",
      "|       0.0|  0.0|\n",
      "|       0.0|  0.0|\n",
      "+----------+-----+\n",
      "only showing top 5 rows\n",
      "\n"
     ]
    }
   ],
   "source": [
    "val s = System.nanoTime\n",
    "val predictionsNB = modelNB.transform(validationData)\n",
    "val durationprediction = (System.nanoTime - s) / 1e9d\n",
    "println(\"\\ninitial model training finished.\")\n",
    "println(s\"Training process takes $durationprediction secs\")\n",
    "predictionsNB.select(\"prediction\", \"label\").show(5)"
   ]
  },
  {
   "cell_type": "code",
   "execution_count": 46,
   "metadata": {},
   "outputs": [
    {
     "data": {
      "application/vnd.jupyter.widget-view+json": {
       "model_id": "",
       "version_major": 2,
       "version_minor": 0
      },
      "text/plain": [
       "FloatProgress(value=0.0, bar_style='info', description='Progress:', layout=Layout(height='25px', width='50%'),…"
      ]
     },
     "metadata": {},
     "output_type": "display_data"
    },
    {
     "name": "stdout",
     "output_type": "stream",
     "text": [
      "Classified test set :\n",
      "+-----+-----+\n",
      "|Class|count|\n",
      "+-----+-----+\n",
      "|  0.0|85426|\n",
      "|  1.0|  394|\n",
      "+-----+-----+\n",
      "\n",
      "Prediction :\n",
      "+----------+-----+\n",
      "|prediction|count|\n",
      "+----------+-----+\n",
      "|       0.0|85820|\n",
      "+----------+-----+\n",
      "\n"
     ]
    }
   ],
   "source": [
    "println(s\"Classified test set :\")\n",
    "validationData.groupBy(\"Class\").count().show()\n",
    "println(s\"Prediction :\")\n",
    "predictionsNB.groupBy(\"prediction\").count().show()"
   ]
  },
  {
   "cell_type": "code",
   "execution_count": 47,
   "metadata": {},
   "outputs": [
    {
     "data": {
      "application/vnd.jupyter.widget-view+json": {
       "model_id": "",
       "version_major": 2,
       "version_minor": 0
      },
      "text/plain": [
       "FloatProgress(value=0.0, bar_style='info', description='Progress:', layout=Layout(height='25px', width='50%'),…"
      ]
     },
     "metadata": {},
     "output_type": "display_data"
    },
    {
     "name": "stdout",
     "output_type": "stream",
     "text": [
      "Matrice de confusion :\n",
      "+----------+-----+-----+\n",
      "|prediction|label|count|\n",
      "+----------+-----+-----+\n",
      "|       0.0|  0.0|85426|\n",
      "|       0.0|  1.0|  394|\n",
      "+----------+-----+-----+\n",
      "\n"
     ]
    }
   ],
   "source": [
    "println(s\"Matrice de confusion :\")\n",
    "predictionsNB.select(\"prediction\", \"label\").groupBy(\"prediction\", \"label\").count().orderBy(\"label\", \"prediction\").show()"
   ]
  },
  {
   "cell_type": "code",
   "execution_count": 48,
   "metadata": {},
   "outputs": [
    {
     "data": {
      "application/vnd.jupyter.widget-view+json": {
       "model_id": "",
       "version_major": 2,
       "version_minor": 0
      },
      "text/plain": [
       "FloatProgress(value=0.0, bar_style='info', description='Progress:', layout=Layout(height='25px', width='50%'),…"
      ]
     },
     "metadata": {},
     "output_type": "display_data"
    },
    {
     "name": "stdout",
     "output_type": "stream",
     "text": [
      "evaluator1: org.apache.spark.ml.evaluation.MulticlassClassificationEvaluator = mcEval_82213f028ff3\n",
      "areaUnderROC: org.apache.spark.ml.evaluation.BinaryClassificationEvaluator = binEval_c8795cbad360\n",
      "accuracy: Double = 0.9954089955721277\n",
      "Area Under ROC Curve = 0.5\n",
      "Accuracy = 0.9954089955721277\n",
      "Test Error = 0.004591004427872303\n"
     ]
    }
   ],
   "source": [
    "val evaluator1 = new MulticlassClassificationEvaluator().setLabelCol(\"label\").setPredictionCol(\"prediction\").setMetricName(\"accuracy\")\n",
    "val areaUnderROC = new BinaryClassificationEvaluator().setRawPredictionCol(\"prediction\").setLabelCol(\"label\").setMetricName(\"areaUnderROC\")\n",
    "val accuracy = evaluator1.evaluate(predictionsNB)\n",
    "println(\"Area Under ROC Curve = \" + areaUnderROC.evaluate(predictionsNB))\n",
    "println(\"Accuracy = \" + evaluator1.evaluate(predictionsNB))\n",
    "println(\"Test Error = \" + (1.0 - accuracy))"
   ]
  },
  {
   "cell_type": "code",
   "execution_count": 49,
   "metadata": {},
   "outputs": [
    {
     "data": {
      "application/vnd.jupyter.widget-view+json": {
       "model_id": "",
       "version_major": 2,
       "version_minor": 0
      },
      "text/plain": [
       "FloatProgress(value=0.0, bar_style='info', description='Progress:', layout=Layout(height='25px', width='50%'),…"
      ]
     },
     "metadata": {},
     "output_type": "display_data"
    },
    {
     "name": "stdout",
     "output_type": "stream",
     "text": [
      "t: Long = 635001270876544\n",
      "layers: Array[Int] = Array(11, 6, 3, 2)\n",
      "mlp: org.apache.spark.ml.classification.MultilayerPerceptronClassifier = mlpc_f3dae351c706\n"
     ]
    }
   ],
   "source": [
    "// Multilayer Perceptron Classifier\n",
    "// create the trainer and set its parameters\n",
    "val t = System.nanoTime\n",
    "val layers = Array[Int] (11, 6, 3, 2)\n",
    "val mlp = new MultilayerPerceptronClassifier().setLayers(layers).setLabelCol(\"label\").setFeaturesCol(\"features\").setTol(1E-4).setBlockSize(128).setSeed(1234L).setMaxIter(25) "
   ]
  },
  {
   "cell_type": "code",
   "execution_count": 50,
   "metadata": {},
   "outputs": [
    {
     "data": {
      "application/vnd.jupyter.widget-view+json": {
       "model_id": "",
       "version_major": 2,
       "version_minor": 0
      },
      "text/plain": [
       "FloatProgress(value=0.0, bar_style='info', description='Progress:', layout=Layout(height='25px', width='50%'),…"
      ]
     },
     "metadata": {},
     "output_type": "display_data"
    },
    {
     "name": "stdout",
     "output_type": "stream",
     "text": [
      "modelMLP: org.apache.spark.ml.classification.MultilayerPerceptronClassificationModel = mlpc_f3dae351c706\n",
      "durationtrain: Double = 17.340589886\n",
      "\n",
      "initial model training finished.\n",
      "Training process takes 17.340589886 secs\n"
     ]
    }
   ],
   "source": [
    "// Train a Multilayer Perceptron model.\n",
    "val modelMLP = mlp.fit(trainingData)\n",
    "val durationtrain = (System.nanoTime - t) / 1e9d\n",
    "println(\"\\ninitial model training finished.\")\n",
    "println(s\"Training process takes $durationtrain secs\")"
   ]
  },
  {
   "cell_type": "code",
   "execution_count": 51,
   "metadata": {},
   "outputs": [
    {
     "data": {
      "application/vnd.jupyter.widget-view+json": {
       "model_id": "",
       "version_major": 2,
       "version_minor": 0
      },
      "text/plain": [
       "FloatProgress(value=0.0, bar_style='info', description='Progress:', layout=Layout(height='25px', width='50%'),…"
      ]
     },
     "metadata": {},
     "output_type": "display_data"
    },
    {
     "name": "stdout",
     "output_type": "stream",
     "text": [
      "s: Long = 635019446739934\n",
      "predictionsMLP: org.apache.spark.sql.DataFrame = [V1: double, V2: double ... 35 more fields]\n",
      "durationprediction: Double = 0.205073942\n",
      "\n",
      "initial model training finished.\n",
      "Training process takes 0.205073942 secs\n",
      "+----------+-----+\n",
      "|prediction|label|\n",
      "+----------+-----+\n",
      "|       0.0|  0.0|\n",
      "|       0.0|  0.0|\n",
      "|       0.0|  0.0|\n",
      "|       0.0|  0.0|\n",
      "|       0.0|  0.0|\n",
      "+----------+-----+\n",
      "only showing top 5 rows\n",
      "\n"
     ]
    }
   ],
   "source": [
    "val s = System.nanoTime\n",
    "val predictionsMLP = modelMLP.transform(validationData)\n",
    "val durationprediction = (System.nanoTime - s) / 1e9d\n",
    "println(\"\\ninitial model training finished.\")\n",
    "println(s\"Training process takes $durationprediction secs\")\n",
    "predictionsMLP.select(\"prediction\",\"label\").show(5)"
   ]
  },
  {
   "cell_type": "code",
   "execution_count": 52,
   "metadata": {},
   "outputs": [
    {
     "data": {
      "application/vnd.jupyter.widget-view+json": {
       "model_id": "",
       "version_major": 2,
       "version_minor": 0
      },
      "text/plain": [
       "FloatProgress(value=0.0, bar_style='info', description='Progress:', layout=Layout(height='25px', width='50%'),…"
      ]
     },
     "metadata": {},
     "output_type": "display_data"
    },
    {
     "name": "stdout",
     "output_type": "stream",
     "text": [
      "Classified test set :\n",
      "+-----+-----+\n",
      "|Class|count|\n",
      "+-----+-----+\n",
      "|  0.0|85426|\n",
      "|  1.0|  394|\n",
      "+-----+-----+\n",
      "\n",
      "Prediction :\n",
      "+----------+-----+\n",
      "|prediction|count|\n",
      "+----------+-----+\n",
      "|       0.0|85505|\n",
      "|       1.0|  315|\n",
      "+----------+-----+\n",
      "\n"
     ]
    }
   ],
   "source": [
    "println(s\"Classified test set :\")\n",
    "validationData.groupBy(\"Class\").count().show()\n",
    "println(s\"Prediction :\")\n",
    "predictionsMLP.groupBy(\"prediction\").count().show()"
   ]
  },
  {
   "cell_type": "code",
   "execution_count": 53,
   "metadata": {},
   "outputs": [
    {
     "data": {
      "application/vnd.jupyter.widget-view+json": {
       "model_id": "",
       "version_major": 2,
       "version_minor": 0
      },
      "text/plain": [
       "FloatProgress(value=0.0, bar_style='info', description='Progress:', layout=Layout(height='25px', width='50%'),…"
      ]
     },
     "metadata": {},
     "output_type": "display_data"
    },
    {
     "name": "stdout",
     "output_type": "stream",
     "text": [
      "Matrice de confusion :\n",
      "+----------+-----+-----+\n",
      "|prediction|label|count|\n",
      "+----------+-----+-----+\n",
      "|       0.0|  0.0|85401|\n",
      "|       1.0|  0.0|   25|\n",
      "|       0.0|  1.0|  104|\n",
      "|       1.0|  1.0|  290|\n",
      "+----------+-----+-----+\n",
      "\n"
     ]
    }
   ],
   "source": [
    "println(s\"Matrice de confusion :\")\n",
    "predictionsMLP.select(\"prediction\", \"label\").groupBy(\"prediction\", \"label\").count().orderBy(\"label\", \"prediction\").show()"
   ]
  },
  {
   "cell_type": "code",
   "execution_count": 54,
   "metadata": {},
   "outputs": [
    {
     "data": {
      "application/vnd.jupyter.widget-view+json": {
       "model_id": "",
       "version_major": 2,
       "version_minor": 0
      },
      "text/plain": [
       "FloatProgress(value=0.0, bar_style='info', description='Progress:', layout=Layout(height='25px', width='50%'),…"
      ]
     },
     "metadata": {},
     "output_type": "display_data"
    },
    {
     "name": "stdout",
     "output_type": "stream",
     "text": [
      "evaluator1: org.apache.spark.ml.evaluation.MulticlassClassificationEvaluator = mcEval_dd4048e87b17\n",
      "areaUnderROC: org.apache.spark.ml.evaluation.BinaryClassificationEvaluator = binEval_4ce967996f9d\n",
      "accuracy: Double = 0.9984968538802144\n",
      "Area Under ROC Curve = 0.8678739790938481\n",
      "Accuracy = 0.9984968538802144\n",
      "Test Error = 0.0015031461197856366\n"
     ]
    }
   ],
   "source": [
    "val evaluator1 = new MulticlassClassificationEvaluator().setLabelCol(\"label\").setPredictionCol(\"prediction\").setMetricName(\"accuracy\")\n",
    "val areaUnderROC = new BinaryClassificationEvaluator().setRawPredictionCol(\"prediction\").setLabelCol(\"label\").setMetricName(\"areaUnderROC\")\n",
    "val accuracy = evaluator1.evaluate(predictionsMLP)\n",
    "println(\"Area Under ROC Curve = \" + areaUnderROC.evaluate(predictionsMLP))\n",
    "println(\"Accuracy = \" + evaluator1.evaluate(predictionsMLP))\n",
    "println(\"Test Error = \" + (1.0 - accuracy))"
   ]
  },
  {
   "cell_type": "code",
   "execution_count": 55,
   "metadata": {},
   "outputs": [
    {
     "data": {
      "application/vnd.jupyter.widget-view+json": {
       "model_id": "",
       "version_major": 2,
       "version_minor": 0
      },
      "text/plain": [
       "FloatProgress(value=0.0, bar_style='info', description='Progress:', layout=Layout(height='25px', width='50%'),…"
      ]
     },
     "metadata": {},
     "output_type": "display_data"
    },
    {
     "name": "stdout",
     "output_type": "stream",
     "text": [
      "classifier: org.apache.spark.ml.classification.LogisticRegression = logreg_5e19b714ead7\n",
      "t: Long = 635029526951555\n"
     ]
    }
   ],
   "source": [
    "// One Vs Rest Classifier using Logistic Regression classifier\n",
    "val classifier = new LogisticRegression().setLabelCol(\"label\").setFeaturesCol(\"features\").setMaxIter(10).setTol(1E-6).setFitIntercept(true) \n",
    "val t = System.nanoTime"
   ]
  },
  {
   "cell_type": "code",
   "execution_count": 56,
   "metadata": {},
   "outputs": [
    {
     "data": {
      "application/vnd.jupyter.widget-view+json": {
       "model_id": "",
       "version_major": 2,
       "version_minor": 0
      },
      "text/plain": [
       "FloatProgress(value=0.0, bar_style='info', description='Progress:', layout=Layout(height='25px', width='50%'),…"
      ]
     },
     "metadata": {},
     "output_type": "display_data"
    },
    {
     "name": "stdout",
     "output_type": "stream",
     "text": [
      "ovr: org.apache.spark.ml.classification.OneVsRest = oneVsRest_f0608d461a39\n",
      "Modelovr: org.apache.spark.ml.classification.OneVsRestModel = oneVsRest_f0608d461a39\n",
      "durationtrain: Double = 10.744430794\n",
      "\n",
      "initial model training finished.\n",
      "Training process takes 10.744430794 secs\n"
     ]
    }
   ],
   "source": [
    "// train the multiclass model.\n",
    "val ovr = new OneVsRest().setClassifier(classifier)\n",
    "val Modelovr = ovr.fit(trainingData)\n",
    "val durationtrain = (System.nanoTime - t) / 1e9d\n",
    "println(\"\\ninitial model training finished.\")\n",
    "println(s\"Training process takes $durationtrain secs\")"
   ]
  },
  {
   "cell_type": "code",
   "execution_count": null,
   "metadata": {},
   "outputs": [
    {
     "data": {
      "application/vnd.jupyter.widget-view+json": {
       "model_id": "192d7bb3ac6f4fb480cd0fcd0a9112bd",
       "version_major": 2,
       "version_minor": 0
      },
      "text/plain": [
       "FloatProgress(value=0.0, bar_style='info', description='Progress:', layout=Layout(height='25px', width='50%'),…"
      ]
     },
     "metadata": {},
     "output_type": "display_data"
    }
   ],
   "source": [
    "val s = System.nanoTime\n",
    "val predictionsOVR = Modelovr.transform(validationData)\n",
    "val durationprediction = (System.nanoTime - s) / 1e9d\n",
    "println(\"\\ninitial model training finished.\")\n",
    "println(s\"Training process takes $durationprediction secs\")\n",
    "predictionsOVR.select(\"prediction\", \"label\", \"features\").show(5)"
   ]
  },
  {
   "cell_type": "code",
   "execution_count": null,
   "metadata": {},
   "outputs": [],
   "source": [
    "println(s\"Classified test set :\")\n",
    "validationData.groupBy(\"Class\").count().show()\n",
    "println(s\"Prediction :\")\n",
    "predictionsOVR.groupBy(\"prediction\").count().show()"
   ]
  },
  {
   "cell_type": "code",
   "execution_count": null,
   "metadata": {},
   "outputs": [],
   "source": [
    "println(s\"Matrice de confusion :\")\n",
    "predictionsOVR.select(\"prediction\", \"label\").groupBy(\"prediction\", \"label\").count().orderBy(\"label\", \"prediction\").show()"
   ]
  },
  {
   "cell_type": "code",
   "execution_count": null,
   "metadata": {},
   "outputs": [],
   "source": [
    "val evaluator1 = new MulticlassClassificationEvaluator().setLabelCol(\"label\").setPredictionCol(\"prediction\").setMetricName(\"accuracy\")\n",
    "val evaluator2 = new MulticlassClassificationEvaluator().setLabelCol(\"label\").setPredictionCol(\"prediction\").setMetricName(\"weightedPrecision\")\n",
    "val evaluator3 = new MulticlassClassificationEvaluator().setLabelCol(\"label\").setPredictionCol(\"prediction\").setMetricName(\"weightedRecall\")\n",
    "val evaluator4 = new MulticlassClassificationEvaluator().setLabelCol(\"label\").setPredictionCol(\"prediction\").setMetricName(\"f1\")\n",
    "val areaUnderROC = new BinaryClassificationEvaluator().setRawPredictionCol(\"prediction\").setLabelCol(\"label\").setMetricName(\"areaUnderROC\")\n",
    "val areaUnderPR = new BinaryClassificationEvaluator().setRawPredictionCol(\"prediction\").setLabelCol(\"label\").setMetricName(\"areaUnderPR\")\n",
    "val accuracy = evaluator1.evaluate(predictionsOVR)\n",
    "println(\"Area Under ROC Curve = \" + areaUnderROC.evaluate(predictionsOVR))\n",
    "println(\"Area Under the Precision-Recall Curve = \"  + areaUnderPR.evaluate(predictionsOVR))\n",
    "println(\"Accuracy = \" + evaluator1.evaluate(predictionsOVR))\n",
    "println(\"Precision = \" + evaluator2.evaluate(predictionsOVR))\n",
    "println(\"Recall = \" + evaluator3.evaluate(predictionsOVR))\n",
    "println(\"F1 = \" + evaluator4.evaluate(predictionsOVR))\n",
    "println(\"Test Error = \" + (1.0 - accuracy))"
   ]
  }
 ],
 "metadata": {
  "kernelspec": {
   "display_name": "Spark",
   "language": "",
   "name": "sparkkernel"
  },
  "language_info": {
   "codemirror_mode": "text/x-scala",
   "mimetype": "text/x-scala",
   "name": "scala",
   "pygments_lexer": "scala"
  }
 },
 "nbformat": 4,
 "nbformat_minor": 4
}
