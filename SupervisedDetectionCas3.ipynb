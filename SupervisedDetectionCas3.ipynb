{
 "cells": [
  {
   "cell_type": "code",
   "execution_count": 1,
   "metadata": {},
   "outputs": [
    {
     "name": "stdout",
     "output_type": "stream",
     "text": [
      "Starting Spark application\n"
     ]
    },
    {
     "data": {
      "text/html": [
       "<table>\n",
       "<tr><th>ID</th><th>YARN Application ID</th><th>Kind</th><th>State</th><th>Spark UI</th><th>Driver log</th><th>Current session?</th></tr><tr><td>147</td><td>application_1576053140655_0148</td><td>spark</td><td>idle</td><td><a target=\"_blank\" href=\"http://spark-master.local:8088/proxy/application_1576053140655_0148/\">Link</a></td><td><a target=\"_blank\" href=\"http://spark-worker02.local:8042/node/containerlogs/container_1576053140655_0148_01_000001/sparkuser\">Link</a></td><td>✔</td></tr></table>"
      ],
      "text/plain": [
       "<IPython.core.display.HTML object>"
      ]
     },
     "metadata": {},
     "output_type": "display_data"
    },
    {
     "data": {
      "application/vnd.jupyter.widget-view+json": {
       "model_id": "",
       "version_major": 2,
       "version_minor": 0
      },
      "text/plain": [
       "FloatProgress(value=0.0, bar_style='info', description='Progress:', layout=Layout(height='25px', width='50%'),…"
      ]
     },
     "metadata": {},
     "output_type": "display_data"
    },
    {
     "name": "stdout",
     "output_type": "stream",
     "text": [
      "SparkSession available as 'spark'.\n"
     ]
    },
    {
     "data": {
      "application/vnd.jupyter.widget-view+json": {
       "model_id": "",
       "version_major": 2,
       "version_minor": 0
      },
      "text/plain": [
       "FloatProgress(value=0.0, bar_style='info', description='Progress:', layout=Layout(height='25px', width='50%'),…"
      ]
     },
     "metadata": {},
     "output_type": "display_data"
    },
    {
     "name": "stdout",
     "output_type": "stream",
     "text": [
      "import org.apache.spark._\n",
      "import org.apache.spark.sql._\n",
      "import org.apache.spark.rdd.RDD\n",
      "import org.apache.spark.sql.functions._\n",
      "import org.apache.spark.sql.{DataFrame, Row, SparkSession}\n",
      "import org.apache.spark.sql.functions.col\n",
      "import org.apache.spark.ml.feature.{StandardScaler, VectorAssembler, StringIndexer, MinMaxScaler}\n",
      "import org.apache.spark.ml.Pipeline\n",
      "import org.apache.spark.ml.classification.{GBTClassifier, RandomForestClassifier, DecisionTreeClassifier, MultilayerPerceptronClassifier, NaiveBayes, LinearSVC, LogisticRegression, OneVsRest}\n",
      "import org.apache.spark.ml.evaluation.{MulticlassClassificationEvaluator, BinaryClassificationEvaluator}\n",
      "import org.apache.spark.mllib.evaluation.BinaryClassificationMetrics\n",
      "import org.apache.spark.mllib.linalg.Vectors\n",
      "import java.io.{File, PrintWriter}\n",
      "import java.text.SimpleDateFormat\n",
      "import java.util.Calendar\n"
     ]
    }
   ],
   "source": [
    "import org.apache.spark._\n",
    "import org.apache.spark.sql._\n",
    "import org.apache.spark.rdd.RDD\n",
    "import org.apache.spark.sql.functions._\n",
    "import org.apache.spark.sql.{DataFrame, Row, SparkSession}\n",
    "import org.apache.spark.sql.functions.{col}\n",
    "import org.apache.spark.ml.feature.{StandardScaler, VectorAssembler, StringIndexer, MinMaxScaler}\n",
    "import org.apache.spark.ml.{Pipeline}\n",
    "import org.apache.spark.ml.classification.{GBTClassifier, RandomForestClassifier, DecisionTreeClassifier, MultilayerPerceptronClassifier, NaiveBayes, LinearSVC, LogisticRegression, OneVsRest}\n",
    "import org.apache.spark.ml.evaluation.{MulticlassClassificationEvaluator,BinaryClassificationEvaluator}\n",
    "import org.apache.spark.mllib.evaluation.BinaryClassificationMetrics\n",
    "import org.apache.spark.mllib.linalg.Vectors\n",
    "import java.io.{File, PrintWriter}\n",
    "import java.text.SimpleDateFormat\n",
    "import java.util.Calendar"
   ]
  },
  {
   "cell_type": "code",
   "execution_count": 2,
   "metadata": {},
   "outputs": [
    {
     "data": {
      "application/vnd.jupyter.widget-view+json": {
       "model_id": "",
       "version_major": 2,
       "version_minor": 0
      },
      "text/plain": [
       "FloatProgress(value=0.0, bar_style='info', description='Progress:', layout=Layout(height='25px', width='50%'),…"
      ]
     },
     "metadata": {},
     "output_type": "display_data"
    },
    {
     "name": "stdout",
     "output_type": "stream",
     "text": [
      "raw: org.apache.spark.sql.DataFrame = [Time: string, V1: string ... 29 more fields]\n"
     ]
    }
   ],
   "source": [
    "val raw = spark.read.format(\"csv\").option(\"header\", \"true\").option(\"mode\", \"DROPMALFORMED\").csv(\"datasets/creditcard.csv\")"
   ]
  },
  {
   "cell_type": "code",
   "execution_count": 3,
   "metadata": {},
   "outputs": [
    {
     "data": {
      "application/vnd.jupyter.widget-view+json": {
       "model_id": "",
       "version_major": 2,
       "version_minor": 0
      },
      "text/plain": [
       "FloatProgress(value=0.0, bar_style='info', description='Progress:', layout=Layout(height='25px', width='50%'),…"
      ]
     },
     "metadata": {},
     "output_type": "display_data"
    },
    {
     "name": "stdout",
     "output_type": "stream",
     "text": [
      "df: org.apache.spark.sql.DataFrame = [V1: double, V2: double ... 29 more fields]\n"
     ]
    }
   ],
   "source": [
    "// cast all the column to Double type.\n",
    "val df = raw.select(((1 to 28).map(i => \"V\" + i) ++ Array(\"Time\", \"Amount\", \"Class\")).map(s => col(s).cast(\"Double\")): _*)"
   ]
  },
  {
   "cell_type": "code",
   "execution_count": 4,
   "metadata": {},
   "outputs": [
    {
     "data": {
      "application/vnd.jupyter.widget-view+json": {
       "model_id": "",
       "version_major": 2,
       "version_minor": 0
      },
      "text/plain": [
       "FloatProgress(value=0.0, bar_style='info', description='Progress:', layout=Layout(height='25px', width='50%'),…"
      ]
     },
     "metadata": {},
     "output_type": "display_data"
    },
    {
     "name": "stdout",
     "output_type": "stream",
     "text": [
      "labelConverter: org.apache.spark.ml.feature.StringIndexer = strIdx_2c0ebbeb9c7a\n",
      "assembler: org.apache.spark.ml.feature.VectorAssembler = vecAssembler_069a5eb16c49\n",
      "scaler: org.apache.spark.ml.feature.MinMaxScaler = minMaxScal_e6eabddd89ba\n",
      "pipeline: org.apache.spark.ml.Pipeline = pipeline_b8aaa57c1913\n",
      "pipelineModel: org.apache.spark.ml.PipelineModel = pipeline_b8aaa57c1913\n",
      "data: org.apache.spark.sql.DataFrame = [V1: double, V2: double ... 32 more fields]\n",
      "Generate feature from raw data:\n",
      "+--------------------+-----+\n",
      "|            features|label|\n",
      "+--------------------+-----+\n",
      "|[0.88136490328633...|  0.0|\n",
      "|[0.84029849039390...|  0.0|\n",
      "|[0.86814081926190...|  0.0|\n",
      "|[0.86848364774806...|  0.0|\n",
      "|[0.86425070140685...|  0.0|\n",
      "|[0.85718742663956...|  0.0|\n",
      "|[0.83819983804773...|  0.0|\n",
      "|[0.85603110871019...|  0.0|\n",
      "|[0.83545216735689...|  0.0|\n",
      "|[0.85551101187934...|  0.0|\n",
      "|[0.85324951634142...|  0.0|\n",
      "|[0.82226325870284...|  0.0|\n",
      "|[0.84406658980857...|  0.0|\n",
      "|[0.85177230541965...|  0.0|\n",
      "|[0.86586281889129...|  0.0|\n",
      "|[0.87306410273210...|  0.0|\n",
      "|[0.85937468703684...|  0.0|\n",
      "|[0.85343546827309...|  0.0|\n",
      "|[0.85797059662233...|  0.0|\n",
      "|[0.84529457208090...|  0.0|\n",
      "+--------------------+-----+\n",
      "only showing top 20 rows\n",
      "\n"
     ]
    }
   ],
   "source": [
    "// convert the label from {0, 1} to {1, 2}\n",
    "//val labelConverter = new FuncTransformer(udf {d: Double => if (d==0) 2 else d }).setInputCol(\"Class\").setOutputCol(\"Class\")\n",
    "val labelConverter = new StringIndexer().setInputCol(\"Class\").setOutputCol(\"label\")\n",
    "val assembler = new VectorAssembler().setInputCols(Array(\"V3\", \"V4\", \"V9\", \"V10\", \"V11\", \"V12\", \"V14\", \"V16\", \"V17\", \"V18\",\"V19\")).setOutputCol(\"assembled\")\n",
    "val scaler = new MinMaxScaler().setInputCol(\"assembled\").setOutputCol(\"features\")\n",
    "//val scaler = new StandardScaler().setInputCol(\"assembled\").setOutputCol(\"features\")\n",
    "val pipeline = new Pipeline().setStages(Array(assembler, scaler, labelConverter))\n",
    "val pipelineModel = pipeline.fit(df)\n",
    "val data = pipelineModel.transform(df)\n",
    "println(\"Generate feature from raw data:\")\n",
    "data.select(\"features\", \"label\").show()"
   ]
  },
  {
   "cell_type": "markdown",
   "metadata": {},
   "source": [
    "### step 2. split the dataset into training and validation dataset."
   ]
  },
  {
   "cell_type": "code",
   "execution_count": 5,
   "metadata": {},
   "outputs": [
    {
     "data": {
      "application/vnd.jupyter.widget-view+json": {
       "model_id": "",
       "version_major": 2,
       "version_minor": 0
      },
      "text/plain": [
       "FloatProgress(value=0.0, bar_style='info', description='Progress:', layout=Layout(height='25px', width='50%'),…"
      ]
     },
     "metadata": {},
     "output_type": "display_data"
    },
    {
     "name": "stdout",
     "output_type": "stream",
     "text": [
      "data0: org.apache.spark.sql.Dataset[org.apache.spark.sql.Row] = [V1: double, V2: double ... 32 more fields]\n",
      "data1: org.apache.spark.sql.Dataset[org.apache.spark.sql.Row] = [V1: double, V2: double ... 32 more fields]\n"
     ]
    }
   ],
   "source": [
    "val data0 = data.filter($\"Class\" === \"0\").cache()\n",
    "val data1 = data.filter($\"Class\" === \"1\").cache()"
   ]
  },
  {
   "cell_type": "code",
   "execution_count": 6,
   "metadata": {},
   "outputs": [
    {
     "data": {
      "application/vnd.jupyter.widget-view+json": {
       "model_id": "",
       "version_major": 2,
       "version_minor": 0
      },
      "text/plain": [
       "FloatProgress(value=0.0, bar_style='info', description='Progress:', layout=Layout(height='25px', width='50%'),…"
      ]
     },
     "metadata": {},
     "output_type": "display_data"
    },
    {
     "name": "stdout",
     "output_type": "stream",
     "text": [
      "splitTime0: Double = 132857.0\n",
      "splitTime1: Double = 93824.0\n",
      "trainingData0: org.apache.spark.sql.Dataset[org.apache.spark.sql.Row] = [V1: double, V2: double ... 32 more fields]\n",
      "validationData0: org.apache.spark.sql.Dataset[org.apache.spark.sql.Row] = [V1: double, V2: double ... 32 more fields]\n",
      "trainingData1: org.apache.spark.sql.Dataset[org.apache.spark.sql.Row] = [V1: double, V2: double ... 32 more fields]\n",
      "validationData1: org.apache.spark.sql.Dataset[org.apache.spark.sql.Row] = [V1: double, V2: double ... 32 more fields]\n"
     ]
    }
   ],
   "source": [
    "val splitTime0 = data0.stat.approxQuantile(\"Time\", Array(0.7), 0.001).head\n",
    "val splitTime1 = data1.stat.approxQuantile(\"Time\", Array(0.6), 0.001).head\n",
    "val trainingData0 = data0.filter(s\"Time<$splitTime0\").cache()\n",
    "val validationData0 = data0.filter(s\"Time>=$splitTime0\").cache()\n",
    "val trainingData1 = data1.filter(s\"Time<$splitTime1\").cache()\n",
    "val validationData1 = data1.filter(s\"Time>=$splitTime1\").cache()"
   ]
  },
  {
   "cell_type": "code",
   "execution_count": 7,
   "metadata": {},
   "outputs": [
    {
     "data": {
      "application/vnd.jupyter.widget-view+json": {
       "model_id": "",
       "version_major": 2,
       "version_minor": 0
      },
      "text/plain": [
       "FloatProgress(value=0.0, bar_style='info', description='Progress:', layout=Layout(height='25px', width='50%'),…"
      ]
     },
     "metadata": {},
     "output_type": "display_data"
    },
    {
     "name": "stdout",
     "output_type": "stream",
     "text": [
      "+------------------+-----+\n",
      "|                V1|Class|\n",
      "+------------------+-----+\n",
      "|  -1.3598071336738|  0.0|\n",
      "|  1.19185711131486|  0.0|\n",
      "| -1.35835406159823|  0.0|\n",
      "|-0.966271711572087|  0.0|\n",
      "| -1.15823309349523|  0.0|\n",
      "|-0.425965884412454|  0.0|\n",
      "|  1.22965763450793|  0.0|\n",
      "|-0.644269442348146|  0.0|\n",
      "| -0.89428608220282|  0.0|\n",
      "| -0.33826175242575|  0.0|\n",
      "+------------------+-----+\n",
      "only showing top 10 rows\n",
      "\n",
      "+-------------------+-----+\n",
      "|                 V1|Class|\n",
      "+-------------------+-----+\n",
      "|   -2.3122265423263|  1.0|\n",
      "|   -3.0435406239976|  1.0|\n",
      "|  -2.30334956758553|  1.0|\n",
      "|  -4.39797444171999|  1.0|\n",
      "|   1.23423504613468|  1.0|\n",
      "|0.00843036489558254|  1.0|\n",
      "| 0.0267792264491516|  1.0|\n",
      "|  0.329594333318222|  1.0|\n",
      "|  0.316459000444982|  1.0|\n",
      "|  0.725645739819857|  1.0|\n",
      "+-------------------+-----+\n",
      "only showing top 10 rows\n",
      "\n"
     ]
    }
   ],
   "source": [
    "trainingData0.select(\"V1\", \"Class\").show(10)\n",
    "trainingData1.select(\"V1\", \"Class\").show(10)"
   ]
  },
  {
   "cell_type": "code",
   "execution_count": 8,
   "metadata": {},
   "outputs": [
    {
     "data": {
      "application/vnd.jupyter.widget-view+json": {
       "model_id": "",
       "version_major": 2,
       "version_minor": 0
      },
      "text/plain": [
       "FloatProgress(value=0.0, bar_style='info', description='Progress:', layout=Layout(height='25px', width='50%'),…"
      ]
     },
     "metadata": {},
     "output_type": "display_data"
    },
    {
     "name": "stdout",
     "output_type": "stream",
     "text": [
      "warning: there was one deprecation warning; re-run with -deprecation for details\n",
      "trainingData: org.apache.spark.sql.Dataset[org.apache.spark.sql.Row] = [V1: double, V2: double ... 32 more fields]\n",
      "warning: there was one deprecation warning; re-run with -deprecation for details\n",
      "validationData: org.apache.spark.sql.Dataset[org.apache.spark.sql.Row] = [V1: double, V2: double ... 32 more fields]\n"
     ]
    }
   ],
   "source": [
    "val trainingData = trainingData0.unionAll(trainingData1)\n",
    "val validationData = validationData0.unionAll(validationData1)"
   ]
  },
  {
   "cell_type": "code",
   "execution_count": 9,
   "metadata": {},
   "outputs": [
    {
     "data": {
      "application/vnd.jupyter.widget-view+json": {
       "model_id": "",
       "version_major": 2,
       "version_minor": 0
      },
      "text/plain": [
       "FloatProgress(value=0.0, bar_style='info', description='Progress:', layout=Layout(height='25px', width='50%'),…"
      ]
     },
     "metadata": {},
     "output_type": "display_data"
    },
    {
     "name": "stdout",
     "output_type": "stream",
     "text": [
      " Training set statistics: 1 represents fraud and 0 represents normal\n",
      "+-----+------+\n",
      "|Class| count|\n",
      "+-----+------+\n",
      "|  0.0|198835|\n",
      "|  1.0|   295|\n",
      "+-----+------+\n",
      "\n",
      " validation set statistics: 1 represents fraud and 0 represents normal\n",
      "+-----+-----+\n",
      "|Class|count|\n",
      "+-----+-----+\n",
      "|  0.0|85480|\n",
      "|  1.0|  197|\n",
      "+-----+-----+\n",
      "\n"
     ]
    }
   ],
   "source": [
    "println(\" Training set statistics: 1 represents fraud and 0 represents normal\")\n",
    "trainingData.groupBy(\"Class\").count().show()\n",
    "println(\" validation set statistics: 1 represents fraud and 0 represents normal\")\n",
    "validationData.groupBy(\"Class\").count().show()"
   ]
  },
  {
   "cell_type": "markdown",
   "metadata": {},
   "source": [
    "### Step3. Buile the Model"
   ]
  },
  {
   "cell_type": "code",
   "execution_count": 10,
   "metadata": {},
   "outputs": [
    {
     "data": {
      "application/vnd.jupyter.widget-view+json": {
       "model_id": "",
       "version_major": 2,
       "version_minor": 0
      },
      "text/plain": [
       "FloatProgress(value=0.0, bar_style='info', description='Progress:', layout=Layout(height='25px', width='50%'),…"
      ]
     },
     "metadata": {},
     "output_type": "display_data"
    },
    {
     "name": "stdout",
     "output_type": "stream",
     "text": [
      "t: Long = 637978714642377\n",
      "gbt: org.apache.spark.ml.classification.GBTClassifier = gbtc_ce3a819e59a3\n"
     ]
    }
   ],
   "source": [
    "//Gradient-boosted tree classifier\n",
    "// Train a GBT model.\n",
    "//setImpurity(\"entropy\") \n",
    "val t = System.nanoTime\n",
    "val gbt = new GBTClassifier().setLabelCol(\"label\").setFeaturesCol(\"features\").setMaxIter(10)"
   ]
  },
  {
   "cell_type": "code",
   "execution_count": 11,
   "metadata": {},
   "outputs": [
    {
     "data": {
      "application/vnd.jupyter.widget-view+json": {
       "model_id": "",
       "version_major": 2,
       "version_minor": 0
      },
      "text/plain": [
       "FloatProgress(value=0.0, bar_style='info', description='Progress:', layout=Layout(height='25px', width='50%'),…"
      ]
     },
     "metadata": {},
     "output_type": "display_data"
    },
    {
     "name": "stdout",
     "output_type": "stream",
     "text": [
      "modelGBT: org.apache.spark.ml.classification.GBTClassificationModel = GBTClassificationModel (uid=gbtc_ce3a819e59a3) with 10 trees\n",
      "durationtrain: Double = 27.987315374\n",
      "\n",
      "initial model training finished.\n",
      "Training process takes 27.987315374 secs\n"
     ]
    }
   ],
   "source": [
    "val modelGBT = gbt.fit(trainingData)\n",
    "val durationtrain = (System.nanoTime - t) / 1e9d\n",
    "println(\"\\ninitial model training finished.\")\n",
    "println(s\"Training process takes $durationtrain secs\")"
   ]
  },
  {
   "cell_type": "code",
   "execution_count": 12,
   "metadata": {},
   "outputs": [
    {
     "data": {
      "application/vnd.jupyter.widget-view+json": {
       "model_id": "",
       "version_major": 2,
       "version_minor": 0
      },
      "text/plain": [
       "FloatProgress(value=0.0, bar_style='info', description='Progress:', layout=Layout(height='25px', width='50%'),…"
      ]
     },
     "metadata": {},
     "output_type": "display_data"
    },
    {
     "name": "stdout",
     "output_type": "stream",
     "text": [
      "s: Long = 638008931281050\n",
      "predictionsGBT: org.apache.spark.sql.DataFrame = [V1: double, V2: double ... 35 more fields]\n",
      "durationprediction: Double = 0.244981766\n",
      "\n",
      "initial model training finished.\n",
      "Training process takes 0.244981766 secs\n",
      "res20: predictionsGBT.type = [V1: double, V2: double ... 35 more fields]\n",
      "+----------+-----+\n",
      "|prediction|label|\n",
      "+----------+-----+\n",
      "|       0.0|  0.0|\n",
      "|       0.0|  0.0|\n",
      "|       0.0|  0.0|\n",
      "|       0.0|  0.0|\n",
      "|       0.0|  0.0|\n",
      "+----------+-----+\n",
      "only showing top 5 rows\n",
      "\n"
     ]
    }
   ],
   "source": [
    "val s = System.nanoTime\n",
    "val predictionsGBT = modelGBT.transform(validationData)\n",
    "val durationprediction = (System.nanoTime - s) / 1e9d\n",
    "println(\"\\ninitial model training finished.\")\n",
    "println(s\"Training process takes $durationprediction secs\")\n",
    "predictionsGBT.cache()\n",
    "//val predictionsAndLabel: RDD[Row] = df.rdd= predictionsGBT.select(\"prediction\", \"label\")\n",
    "predictionsGBT.select(\"prediction\", \"label\").show(5)"
   ]
  },
  {
   "cell_type": "code",
   "execution_count": 13,
   "metadata": {},
   "outputs": [
    {
     "data": {
      "application/vnd.jupyter.widget-view+json": {
       "model_id": "",
       "version_major": 2,
       "version_minor": 0
      },
      "text/plain": [
       "FloatProgress(value=0.0, bar_style='info', description='Progress:', layout=Layout(height='25px', width='50%'),…"
      ]
     },
     "metadata": {},
     "output_type": "display_data"
    },
    {
     "name": "stdout",
     "output_type": "stream",
     "text": [
      "Classified test set :\n",
      "+-----+-----+\n",
      "|Class|count|\n",
      "+-----+-----+\n",
      "|  0.0|85480|\n",
      "|  1.0|  197|\n",
      "+-----+-----+\n",
      "\n",
      "Prediction :\n",
      "+----------+-----+\n",
      "|prediction|count|\n",
      "+----------+-----+\n",
      "|       0.0|85536|\n",
      "|       1.0|  141|\n",
      "+----------+-----+\n",
      "\n"
     ]
    }
   ],
   "source": [
    "println(s\"Classified test set :\")\n",
    "validationData.groupBy(\"Class\").count().show()\n",
    "println(s\"Prediction :\")\n",
    "predictionsGBT.groupBy(\"prediction\").count().show()"
   ]
  },
  {
   "cell_type": "code",
   "execution_count": 14,
   "metadata": {},
   "outputs": [
    {
     "data": {
      "application/vnd.jupyter.widget-view+json": {
       "model_id": "",
       "version_major": 2,
       "version_minor": 0
      },
      "text/plain": [
       "FloatProgress(value=0.0, bar_style='info', description='Progress:', layout=Layout(height='25px', width='50%'),…"
      ]
     },
     "metadata": {},
     "output_type": "display_data"
    },
    {
     "name": "stdout",
     "output_type": "stream",
     "text": [
      "Matrice de confusion :\n",
      "+----------+-----+-----+\n",
      "|prediction|label|count|\n",
      "+----------+-----+-----+\n",
      "|       0.0|  0.0|85474|\n",
      "|       1.0|  0.0|    6|\n",
      "|       0.0|  1.0|   62|\n",
      "|       1.0|  1.0|  135|\n",
      "+----------+-----+-----+\n",
      "\n"
     ]
    }
   ],
   "source": [
    "println(s\"Matrice de confusion :\")\n",
    "predictionsGBT.select(\"prediction\", \"label\").groupBy(\"prediction\", \"label\").count().orderBy(\"label\", \"prediction\").show()"
   ]
  },
  {
   "cell_type": "code",
   "execution_count": 15,
   "metadata": {},
   "outputs": [
    {
     "data": {
      "application/vnd.jupyter.widget-view+json": {
       "model_id": "",
       "version_major": 2,
       "version_minor": 0
      },
      "text/plain": [
       "FloatProgress(value=0.0, bar_style='info', description='Progress:', layout=Layout(height='25px', width='50%'),…"
      ]
     },
     "metadata": {},
     "output_type": "display_data"
    },
    {
     "name": "stdout",
     "output_type": "stream",
     "text": [
      "evaluator1: org.apache.spark.ml.evaluation.MulticlassClassificationEvaluator = mcEval_71a5c7f69cfb\n",
      "evaluator2: org.apache.spark.ml.evaluation.MulticlassClassificationEvaluator = mcEval_f3eb0494d38f\n",
      "evaluator3: org.apache.spark.ml.evaluation.MulticlassClassificationEvaluator = mcEval_1e7e5c5ccfa6\n",
      "evaluator4: org.apache.spark.ml.evaluation.MulticlassClassificationEvaluator = mcEval_0d3daa77cff1\n",
      "areaUnderROC: org.apache.spark.ml.evaluation.BinaryClassificationEvaluator = binEval_ae5f05011803\n",
      "accuracy: Double = 0.9992063214164828\n",
      "Area Under ROC Curve = 0.8426044979797572\n",
      "Accuracy = 0.9992063214164828\n",
      "Precision = 0.9991789816680409\n",
      "Recall = 0.9992063214164829\n",
      "F1 = 0.9991407028416789\n",
      "Test Error = 7.936785835171989E-4\n"
     ]
    }
   ],
   "source": [
    "val evaluator1 = new MulticlassClassificationEvaluator().setLabelCol(\"label\").setPredictionCol(\"prediction\").setMetricName(\"accuracy\")\n",
    "val evaluator2 = new MulticlassClassificationEvaluator().setLabelCol(\"label\").setPredictionCol(\"prediction\").setMetricName(\"weightedPrecision\")\n",
    "val evaluator3 = new MulticlassClassificationEvaluator().setLabelCol(\"label\").setPredictionCol(\"prediction\").setMetricName(\"weightedRecall\")\n",
    "val evaluator4 = new MulticlassClassificationEvaluator().setLabelCol(\"label\").setPredictionCol(\"prediction\").setMetricName(\"f1\")\n",
    "val areaUnderROC = new BinaryClassificationEvaluator().setRawPredictionCol(\"prediction\").setLabelCol(\"label\").setMetricName(\"areaUnderROC\")\n",
    "val accuracy = evaluator1.evaluate(predictionsGBT)\n",
    "println(\"Area Under ROC Curve = \" + areaUnderROC.evaluate(predictionsGBT))\n",
    "println(\"Accuracy = \" + evaluator1.evaluate(predictionsGBT))\n",
    "println(\"Precision = \" + evaluator2.evaluate(predictionsGBT))\n",
    "println(\"Recall = \" + evaluator3.evaluate(predictionsGBT))\n",
    "println(\"F1 = \" + evaluator4.evaluate(predictionsGBT))\n",
    "println(\"Test Error = \" + (1.0 - accuracy))"
   ]
  },
  {
   "cell_type": "code",
   "execution_count": 16,
   "metadata": {},
   "outputs": [
    {
     "data": {
      "application/vnd.jupyter.widget-view+json": {
       "model_id": "",
       "version_major": 2,
       "version_minor": 0
      },
      "text/plain": [
       "FloatProgress(value=0.0, bar_style='info', description='Progress:', layout=Layout(height='25px', width='50%'),…"
      ]
     },
     "metadata": {},
     "output_type": "display_data"
    },
    {
     "name": "stdout",
     "output_type": "stream",
     "text": [
      "rf: org.apache.spark.ml.classification.RandomForestClassifier = rfc_52a856193b7c\n",
      "t: Long = 638022232109834\n"
     ]
    }
   ],
   "source": [
    "// Random forest classifier\n",
    "// Train a RandomForest model.\n",
    "val rf = new RandomForestClassifier().setLabelCol(\"label\").setFeaturesCol(\"features\").setNumTrees(10)\n",
    "val t = System.nanoTime"
   ]
  },
  {
   "cell_type": "code",
   "execution_count": 17,
   "metadata": {},
   "outputs": [
    {
     "data": {
      "application/vnd.jupyter.widget-view+json": {
       "model_id": "",
       "version_major": 2,
       "version_minor": 0
      },
      "text/plain": [
       "FloatProgress(value=0.0, bar_style='info', description='Progress:', layout=Layout(height='25px', width='50%'),…"
      ]
     },
     "metadata": {},
     "output_type": "display_data"
    },
    {
     "name": "stdout",
     "output_type": "stream",
     "text": [
      "modelRF: org.apache.spark.ml.classification.RandomForestClassificationModel = RandomForestClassificationModel (uid=rfc_52a856193b7c) with 10 trees\n",
      "durationtrain: Double = 4.720912063\n",
      "\n",
      "initial model training finished.\n",
      "Training process takes 4.720912063 secs\n"
     ]
    }
   ],
   "source": [
    "val modelRF = rf.fit(trainingData)\n",
    "val durationtrain = (System.nanoTime - t) / 1e9d\n",
    "println(\"\\ninitial model training finished.\")\n",
    "println(s\"Training process takes $durationtrain secs\")"
   ]
  },
  {
   "cell_type": "code",
   "execution_count": 18,
   "metadata": {},
   "outputs": [
    {
     "data": {
      "application/vnd.jupyter.widget-view+json": {
       "model_id": "",
       "version_major": 2,
       "version_minor": 0
      },
      "text/plain": [
       "FloatProgress(value=0.0, bar_style='info', description='Progress:', layout=Layout(height='25px', width='50%'),…"
      ]
     },
     "metadata": {},
     "output_type": "display_data"
    },
    {
     "name": "stdout",
     "output_type": "stream",
     "text": [
      "s: Long = 638028088981162\n",
      "predictionsRF: org.apache.spark.sql.DataFrame = [V1: double, V2: double ... 35 more fields]\n",
      "durationprediction: Double = 0.24319453\n",
      "\n",
      "initial model training finished.\n",
      "Training process takes 0.24319453 secs\n",
      "+----------+-----+--------------------+\n",
      "|prediction|label|            features|\n",
      "+----------+-----+--------------------+\n",
      "|       0.0|  0.0|[0.80345987710294...|\n",
      "|       0.0|  0.0|[0.81607634463416...|\n",
      "|       0.0|  0.0|[0.83176453231324...|\n",
      "|       0.0|  0.0|[0.82939280217800...|\n",
      "|       0.0|  0.0|[0.82856290285761...|\n",
      "+----------+-----+--------------------+\n",
      "only showing top 5 rows\n",
      "\n"
     ]
    }
   ],
   "source": [
    "val s = System.nanoTime\n",
    "val predictionsRF = modelRF.transform(validationData)\n",
    "val durationprediction = (System.nanoTime - s) / 1e9d\n",
    "println(\"\\ninitial model training finished.\")\n",
    "println(s\"Training process takes $durationprediction secs\")\n",
    "predictionsRF.select(\"prediction\", \"label\", \"features\").show(5)"
   ]
  },
  {
   "cell_type": "code",
   "execution_count": 19,
   "metadata": {},
   "outputs": [
    {
     "data": {
      "application/vnd.jupyter.widget-view+json": {
       "model_id": "",
       "version_major": 2,
       "version_minor": 0
      },
      "text/plain": [
       "FloatProgress(value=0.0, bar_style='info', description='Progress:', layout=Layout(height='25px', width='50%'),…"
      ]
     },
     "metadata": {},
     "output_type": "display_data"
    },
    {
     "name": "stdout",
     "output_type": "stream",
     "text": [
      "Classified test set :\n",
      "+-----+-----+\n",
      "|Class|count|\n",
      "+-----+-----+\n",
      "|  0.0|85480|\n",
      "|  1.0|  197|\n",
      "+-----+-----+\n",
      "\n",
      "Prediction :\n",
      "+----------+-----+\n",
      "|prediction|count|\n",
      "+----------+-----+\n",
      "|       0.0|85535|\n",
      "|       1.0|  142|\n",
      "+----------+-----+\n",
      "\n"
     ]
    }
   ],
   "source": [
    "println(s\"Classified test set :\")\n",
    "validationData.groupBy(\"Class\").count().show()\n",
    "println(s\"Prediction :\")\n",
    "predictionsRF.groupBy(\"prediction\").count().show()"
   ]
  },
  {
   "cell_type": "code",
   "execution_count": 20,
   "metadata": {},
   "outputs": [
    {
     "data": {
      "application/vnd.jupyter.widget-view+json": {
       "model_id": "",
       "version_major": 2,
       "version_minor": 0
      },
      "text/plain": [
       "FloatProgress(value=0.0, bar_style='info', description='Progress:', layout=Layout(height='25px', width='50%'),…"
      ]
     },
     "metadata": {},
     "output_type": "display_data"
    },
    {
     "name": "stdout",
     "output_type": "stream",
     "text": [
      "Matrice de confusion :\n",
      "+----------+-----+-----+\n",
      "|prediction|label|count|\n",
      "+----------+-----+-----+\n",
      "|       0.0|  0.0|85478|\n",
      "|       1.0|  0.0|    2|\n",
      "|       0.0|  1.0|   57|\n",
      "|       1.0|  1.0|  140|\n",
      "+----------+-----+-----+\n",
      "\n"
     ]
    }
   ],
   "source": [
    "println(s\"Matrice de confusion :\")\n",
    "predictionsRF.select(\"prediction\", \"label\").groupBy(\"prediction\", \"label\").count().orderBy(\"label\", \"prediction\").show()"
   ]
  },
  {
   "cell_type": "code",
   "execution_count": 21,
   "metadata": {},
   "outputs": [
    {
     "data": {
      "application/vnd.jupyter.widget-view+json": {
       "model_id": "",
       "version_major": 2,
       "version_minor": 0
      },
      "text/plain": [
       "FloatProgress(value=0.0, bar_style='info', description='Progress:', layout=Layout(height='25px', width='50%'),…"
      ]
     },
     "metadata": {},
     "output_type": "display_data"
    },
    {
     "name": "stdout",
     "output_type": "stream",
     "text": [
      "evaluator1: org.apache.spark.ml.evaluation.MulticlassClassificationEvaluator = mcEval_0a658aec7435\n",
      "areaUnderROC: org.apache.spark.ml.evaluation.BinaryClassificationEvaluator = binEval_4b7401ff4eb1\n",
      "accuracy: Double = 0.9993113671113601\n",
      "Area Under ROC Curve = 0.8553182505956212\n",
      "Accuracy = 0.9993113671113601\n",
      "Test Error = 6.886328886398507E-4\n"
     ]
    }
   ],
   "source": [
    "val evaluator1 = new MulticlassClassificationEvaluator().setLabelCol(\"label\").setPredictionCol(\"prediction\").setMetricName(\"accuracy\")\n",
    "val areaUnderROC = new BinaryClassificationEvaluator().setRawPredictionCol(\"prediction\").setLabelCol(\"label\").setMetricName(\"areaUnderROC\")\n",
    "val accuracy = evaluator1.evaluate(predictionsRF)\n",
    "println(\"Area Under ROC Curve = \" + areaUnderROC.evaluate(predictionsRF))\n",
    "println(\"Accuracy = \" + evaluator1.evaluate(predictionsRF))\n",
    "println(\"Test Error = \" + (1.0 - accuracy))"
   ]
  },
  {
   "cell_type": "code",
   "execution_count": 22,
   "metadata": {},
   "outputs": [
    {
     "data": {
      "application/vnd.jupyter.widget-view+json": {
       "model_id": "",
       "version_major": 2,
       "version_minor": 0
      },
      "text/plain": [
       "FloatProgress(value=0.0, bar_style='info', description='Progress:', layout=Layout(height='25px', width='50%'),…"
      ]
     },
     "metadata": {},
     "output_type": "display_data"
    },
    {
     "name": "stdout",
     "output_type": "stream",
     "text": [
      "dt: org.apache.spark.ml.classification.DecisionTreeClassifier = dtc_e2b54acc5fc7\n",
      "t: Long = 638035220307465\n"
     ]
    }
   ],
   "source": [
    "// Decision Tree classifier\n",
    "// Train a DecisionTree model.\n",
    "val dt = new DecisionTreeClassifier().setLabelCol(\"label\").setFeaturesCol(\"features\")\n",
    "\n",
    "val t = System.nanoTime"
   ]
  },
  {
   "cell_type": "code",
   "execution_count": 23,
   "metadata": {},
   "outputs": [
    {
     "data": {
      "application/vnd.jupyter.widget-view+json": {
       "model_id": "",
       "version_major": 2,
       "version_minor": 0
      },
      "text/plain": [
       "FloatProgress(value=0.0, bar_style='info', description='Progress:', layout=Layout(height='25px', width='50%'),…"
      ]
     },
     "metadata": {},
     "output_type": "display_data"
    },
    {
     "name": "stdout",
     "output_type": "stream",
     "text": [
      "modelDT: org.apache.spark.ml.classification.DecisionTreeClassificationModel = DecisionTreeClassificationModel (uid=dtc_e2b54acc5fc7) of depth 5 with 25 nodes\n",
      "durationtrain: Double = 2.972453781\n",
      "\n",
      "initial model training finished.\n",
      "Training process takes 2.972453781 secs\n"
     ]
    }
   ],
   "source": [
    "val modelDT = dt.fit(trainingData)\n",
    "val durationtrain = (System.nanoTime - t) / 1e9d\n",
    "println(\"\\ninitial model training finished.\")\n",
    "println(s\"Training process takes $durationtrain secs\")"
   ]
  },
  {
   "cell_type": "code",
   "execution_count": 24,
   "metadata": {},
   "outputs": [
    {
     "data": {
      "application/vnd.jupyter.widget-view+json": {
       "model_id": "",
       "version_major": 2,
       "version_minor": 0
      },
      "text/plain": [
       "FloatProgress(value=0.0, bar_style='info', description='Progress:', layout=Layout(height='25px', width='50%'),…"
      ]
     },
     "metadata": {},
     "output_type": "display_data"
    },
    {
     "name": "stdout",
     "output_type": "stream",
     "text": [
      "s: Long = 638039119927914\n",
      "predictionsDT: org.apache.spark.sql.DataFrame = [V1: double, V2: double ... 35 more fields]\n",
      "durationprediction: Double = 0.218285513\n",
      "\n",
      "initial model training finished.\n",
      "Training process takes 0.218285513 secs\n",
      "+----------+-----+--------------------+\n",
      "|prediction|label|            features|\n",
      "+----------+-----+--------------------+\n",
      "|       0.0|  0.0|[0.80345987710294...|\n",
      "|       0.0|  0.0|[0.81607634463416...|\n",
      "|       0.0|  0.0|[0.83176453231324...|\n",
      "|       0.0|  0.0|[0.82939280217800...|\n",
      "|       0.0|  0.0|[0.82856290285761...|\n",
      "+----------+-----+--------------------+\n",
      "only showing top 5 rows\n",
      "\n"
     ]
    }
   ],
   "source": [
    "val s = System.nanoTime\n",
    "val predictionsDT = modelDT.transform(validationData)\n",
    "val durationprediction = (System.nanoTime - s) / 1e9d\n",
    "println(\"\\ninitial model training finished.\")\n",
    "println(s\"Training process takes $durationprediction secs\")\n",
    "predictionsDT.select(\"prediction\", \"label\", \"features\").show(5)"
   ]
  },
  {
   "cell_type": "code",
   "execution_count": 25,
   "metadata": {},
   "outputs": [
    {
     "data": {
      "application/vnd.jupyter.widget-view+json": {
       "model_id": "",
       "version_major": 2,
       "version_minor": 0
      },
      "text/plain": [
       "FloatProgress(value=0.0, bar_style='info', description='Progress:', layout=Layout(height='25px', width='50%'),…"
      ]
     },
     "metadata": {},
     "output_type": "display_data"
    },
    {
     "name": "stdout",
     "output_type": "stream",
     "text": [
      "Classified test set :\n",
      "+-----+-----+\n",
      "|Class|count|\n",
      "+-----+-----+\n",
      "|  0.0|85480|\n",
      "|  1.0|  197|\n",
      "+-----+-----+\n",
      "\n",
      "Prediction :\n",
      "+----------+-----+\n",
      "|prediction|count|\n",
      "+----------+-----+\n",
      "|       0.0|85537|\n",
      "|       1.0|  140|\n",
      "+----------+-----+\n",
      "\n"
     ]
    }
   ],
   "source": [
    "println(s\"Classified test set :\")\n",
    "validationData.groupBy(\"Class\").count().show()\n",
    "println(s\"Prediction :\")\n",
    "predictionsDT.groupBy(\"prediction\").count().show()"
   ]
  },
  {
   "cell_type": "code",
   "execution_count": 26,
   "metadata": {},
   "outputs": [
    {
     "data": {
      "application/vnd.jupyter.widget-view+json": {
       "model_id": "",
       "version_major": 2,
       "version_minor": 0
      },
      "text/plain": [
       "FloatProgress(value=0.0, bar_style='info', description='Progress:', layout=Layout(height='25px', width='50%'),…"
      ]
     },
     "metadata": {},
     "output_type": "display_data"
    },
    {
     "name": "stdout",
     "output_type": "stream",
     "text": [
      "Matrice de confusion :\n",
      "+----------+-----+-----+\n",
      "|prediction|label|count|\n",
      "+----------+-----+-----+\n",
      "|       0.0|  0.0|85478|\n",
      "|       1.0|  0.0|    2|\n",
      "|       0.0|  1.0|   59|\n",
      "|       1.0|  1.0|  138|\n",
      "+----------+-----+-----+\n",
      "\n"
     ]
    }
   ],
   "source": [
    "println(s\"Matrice de confusion :\")\n",
    "predictionsDT.select(\"prediction\", \"label\").groupBy(\"prediction\", \"label\").count().orderBy(\"label\", \"prediction\").show()"
   ]
  },
  {
   "cell_type": "code",
   "execution_count": 27,
   "metadata": {},
   "outputs": [
    {
     "data": {
      "application/vnd.jupyter.widget-view+json": {
       "model_id": "",
       "version_major": 2,
       "version_minor": 0
      },
      "text/plain": [
       "FloatProgress(value=0.0, bar_style='info', description='Progress:', layout=Layout(height='25px', width='50%'),…"
      ]
     },
     "metadata": {},
     "output_type": "display_data"
    },
    {
     "name": "stdout",
     "output_type": "stream",
     "text": [
      "evaluator1: org.apache.spark.ml.evaluation.MulticlassClassificationEvaluator = mcEval_5571884cbac3\n",
      "areaUnderROC: org.apache.spark.ml.evaluation.BinaryClassificationEvaluator = binEval_3a2065a298b3\n",
      "accuracy: Double = 0.9992880236236096\n",
      "Area Under ROC Curve = 0.8502421084636416\n",
      "Accuracy = 0.9992880236236096\n",
      "Test Error = 7.119763763904219E-4\n"
     ]
    }
   ],
   "source": [
    "val evaluator1 = new MulticlassClassificationEvaluator().setLabelCol(\"label\").setPredictionCol(\"prediction\").setMetricName(\"accuracy\")\n",
    "val areaUnderROC = new BinaryClassificationEvaluator().setRawPredictionCol(\"prediction\").setLabelCol(\"label\").setMetricName(\"areaUnderROC\")\n",
    "val accuracy = evaluator1.evaluate(predictionsDT)\n",
    "println(\"Area Under ROC Curve = \" + areaUnderROC.evaluate(predictionsDT))\n",
    "println(\"Accuracy = \" + evaluator1.evaluate(predictionsDT))\n",
    "println(\"Test Error = \" + (1.0 - accuracy))"
   ]
  },
  {
   "cell_type": "code",
   "execution_count": 28,
   "metadata": {},
   "outputs": [
    {
     "data": {
      "application/vnd.jupyter.widget-view+json": {
       "model_id": "",
       "version_major": 2,
       "version_minor": 0
      },
      "text/plain": [
       "FloatProgress(value=0.0, bar_style='info', description='Progress:', layout=Layout(height='25px', width='50%'),…"
      ]
     },
     "metadata": {},
     "output_type": "display_data"
    },
    {
     "name": "stdout",
     "output_type": "stream",
     "text": [
      "svm: org.apache.spark.ml.classification.LinearSVC = linearsvc_45441ba97388\n",
      "t: Long = 638046213964870\n"
     ]
    }
   ],
   "source": [
    "// SVM classifier\n",
    "// Train a SVM model.\n",
    "val svm = new LinearSVC().setLabelCol(\"label\").setFeaturesCol(\"features\").setMaxIter(100).setRegParam(0.1) \n",
    "val t = System.nanoTime"
   ]
  },
  {
   "cell_type": "code",
   "execution_count": 29,
   "metadata": {},
   "outputs": [
    {
     "data": {
      "application/vnd.jupyter.widget-view+json": {
       "model_id": "",
       "version_major": 2,
       "version_minor": 0
      },
      "text/plain": [
       "FloatProgress(value=0.0, bar_style='info', description='Progress:', layout=Layout(height='25px', width='50%'),…"
      ]
     },
     "metadata": {},
     "output_type": "display_data"
    },
    {
     "name": "stdout",
     "output_type": "stream",
     "text": [
      "modelSVM: org.apache.spark.ml.classification.LinearSVCModel = linearsvc_45441ba97388\n",
      "durationtrain: Double = 108.595590178\n",
      "\n",
      "initial model training finished.\n",
      "Training process takes 108.595590178 secs\n"
     ]
    }
   ],
   "source": [
    "val modelSVM = svm.fit(trainingData)\n",
    "val durationtrain = (System.nanoTime - t) / 1e9d\n",
    "println(\"\\ninitial model training finished.\")\n",
    "println(s\"Training process takes $durationtrain secs\")"
   ]
  },
  {
   "cell_type": "code",
   "execution_count": 30,
   "metadata": {},
   "outputs": [
    {
     "data": {
      "application/vnd.jupyter.widget-view+json": {
       "model_id": "",
       "version_major": 2,
       "version_minor": 0
      },
      "text/plain": [
       "FloatProgress(value=0.0, bar_style='info', description='Progress:', layout=Layout(height='25px', width='50%'),…"
      ]
     },
     "metadata": {},
     "output_type": "display_data"
    },
    {
     "name": "stdout",
     "output_type": "stream",
     "text": [
      "s: Long = 638155556075998\n",
      "predictionsSVM: org.apache.spark.sql.DataFrame = [V1: double, V2: double ... 34 more fields]\n",
      "durationprediction: Double = 0.239918081\n",
      "\n",
      "initial model training finished.\n",
      "Training process takes 0.239918081 secs\n",
      "+----------+-----+--------------------+\n",
      "|prediction|label|            features|\n",
      "+----------+-----+--------------------+\n",
      "|       0.0|  0.0|[0.80345987710294...|\n",
      "|       0.0|  0.0|[0.81607634463416...|\n",
      "|       0.0|  0.0|[0.83176453231324...|\n",
      "|       0.0|  0.0|[0.82939280217800...|\n",
      "|       0.0|  0.0|[0.82856290285761...|\n",
      "+----------+-----+--------------------+\n",
      "only showing top 5 rows\n",
      "\n"
     ]
    }
   ],
   "source": [
    "val s = System.nanoTime\n",
    "val predictionsSVM = modelSVM.transform(validationData)\n",
    "val durationprediction = (System.nanoTime - s) / 1e9d\n",
    "println(\"\\ninitial model training finished.\")\n",
    "println(s\"Training process takes $durationprediction secs\")\n",
    "predictionsSVM.select(\"prediction\", \"label\", \"features\").show(5)"
   ]
  },
  {
   "cell_type": "code",
   "execution_count": 31,
   "metadata": {},
   "outputs": [
    {
     "data": {
      "application/vnd.jupyter.widget-view+json": {
       "model_id": "",
       "version_major": 2,
       "version_minor": 0
      },
      "text/plain": [
       "FloatProgress(value=0.0, bar_style='info', description='Progress:', layout=Layout(height='25px', width='50%'),…"
      ]
     },
     "metadata": {},
     "output_type": "display_data"
    },
    {
     "name": "stdout",
     "output_type": "stream",
     "text": [
      "Classified test set :\n",
      "+-----+-----+\n",
      "|Class|count|\n",
      "+-----+-----+\n",
      "|  0.0|85480|\n",
      "|  1.0|  197|\n",
      "+-----+-----+\n",
      "\n",
      "Prediction :\n",
      "+----------+-----+\n",
      "|prediction|count|\n",
      "+----------+-----+\n",
      "|       0.0|85647|\n",
      "|       1.0|   30|\n",
      "+----------+-----+\n",
      "\n"
     ]
    }
   ],
   "source": [
    "println(s\"Classified test set :\")\n",
    "validationData.groupBy(\"Class\").count().show()\n",
    "println(s\"Prediction :\")\n",
    "predictionsSVM.groupBy(\"prediction\").count().show()"
   ]
  },
  {
   "cell_type": "code",
   "execution_count": 32,
   "metadata": {},
   "outputs": [
    {
     "data": {
      "application/vnd.jupyter.widget-view+json": {
       "model_id": "",
       "version_major": 2,
       "version_minor": 0
      },
      "text/plain": [
       "FloatProgress(value=0.0, bar_style='info', description='Progress:', layout=Layout(height='25px', width='50%'),…"
      ]
     },
     "metadata": {},
     "output_type": "display_data"
    },
    {
     "name": "stdout",
     "output_type": "stream",
     "text": [
      "Matrice de confusion :\n",
      "+----------+-----+-----+\n",
      "|prediction|label|count|\n",
      "+----------+-----+-----+\n",
      "|       0.0|  0.0|85480|\n",
      "|       0.0|  1.0|  167|\n",
      "|       1.0|  1.0|   30|\n",
      "+----------+-----+-----+\n",
      "\n"
     ]
    }
   ],
   "source": [
    "println(s\"Matrice de confusion :\")\n",
    "predictionsSVM.select(\"prediction\", \"label\").groupBy(\"prediction\", \"label\").count().orderBy(\"label\", \"prediction\").show()"
   ]
  },
  {
   "cell_type": "code",
   "execution_count": 33,
   "metadata": {},
   "outputs": [
    {
     "data": {
      "application/vnd.jupyter.widget-view+json": {
       "model_id": "",
       "version_major": 2,
       "version_minor": 0
      },
      "text/plain": [
       "FloatProgress(value=0.0, bar_style='info', description='Progress:', layout=Layout(height='25px', width='50%'),…"
      ]
     },
     "metadata": {},
     "output_type": "display_data"
    },
    {
     "name": "stdout",
     "output_type": "stream",
     "text": [
      "evaluator1: org.apache.spark.ml.evaluation.MulticlassClassificationEvaluator = mcEval_b4e1231f537f\n",
      "areaUnderROC: org.apache.spark.ml.evaluation.BinaryClassificationEvaluator = binEval_ace29a246edb\n",
      "accuracy: Double = 0.9980508187728329\n",
      "Area Under ROC Curve = 0.5761421319796954\n",
      "Accuracy = 0.9980508187728329\n",
      "Test Error = 0.0019491812271671405\n"
     ]
    }
   ],
   "source": [
    "val evaluator1 = new MulticlassClassificationEvaluator().setLabelCol(\"label\").setPredictionCol(\"prediction\").setMetricName(\"accuracy\")\n",
    "val areaUnderROC = new BinaryClassificationEvaluator().setRawPredictionCol(\"prediction\").setLabelCol(\"label\").setMetricName(\"areaUnderROC\")\n",
    "val accuracy = evaluator1.evaluate(predictionsSVM)\n",
    "println(\"Area Under ROC Curve = \" + areaUnderROC.evaluate(predictionsSVM))\n",
    "println(\"Accuracy = \" + evaluator1.evaluate(predictionsSVM))\n",
    "println(\"Test Error = \" + (1.0 - accuracy))"
   ]
  },
  {
   "cell_type": "code",
   "execution_count": 34,
   "metadata": {},
   "outputs": [
    {
     "data": {
      "application/vnd.jupyter.widget-view+json": {
       "model_id": "",
       "version_major": 2,
       "version_minor": 0
      },
      "text/plain": [
       "FloatProgress(value=0.0, bar_style='info', description='Progress:', layout=Layout(height='25px', width='50%'),…"
      ]
     },
     "metadata": {},
     "output_type": "display_data"
    },
    {
     "name": "stdout",
     "output_type": "stream",
     "text": [
      "lr: org.apache.spark.ml.classification.LogisticRegression = logreg_c48c9f398ae0\n",
      "t: Long = 638162680667133\n"
     ]
    }
   ],
   "source": [
    "// Logistic Regression classifier\n",
    "val lr = new LogisticRegression().setLabelCol(\"label\").setFeaturesCol(\"features\").setMaxIter(10).setTol(1E-6).setFitIntercept(true) \n",
    "val t = System.nanoTime"
   ]
  },
  {
   "cell_type": "code",
   "execution_count": 35,
   "metadata": {},
   "outputs": [
    {
     "data": {
      "application/vnd.jupyter.widget-view+json": {
       "model_id": "",
       "version_major": 2,
       "version_minor": 0
      },
      "text/plain": [
       "FloatProgress(value=0.0, bar_style='info', description='Progress:', layout=Layout(height='25px', width='50%'),…"
      ]
     },
     "metadata": {},
     "output_type": "display_data"
    },
    {
     "name": "stdout",
     "output_type": "stream",
     "text": [
      "Modellr: org.apache.spark.ml.classification.LogisticRegressionModel = LogisticRegressionModel: uid = logreg_c48c9f398ae0, numClasses = 2, numFeatures = 11\n",
      "durationtrain: Double = 3.947466001\n",
      "\n",
      "initial model training finished.\n",
      "Training process takes 3.947466001 secs\n"
     ]
    }
   ],
   "source": [
    "val Modellr = lr.fit(trainingData)\n",
    "val durationtrain = (System.nanoTime - t) / 1e9d\n",
    "println(\"\\ninitial model training finished.\")\n",
    "println(s\"Training process takes $durationtrain secs\")"
   ]
  },
  {
   "cell_type": "code",
   "execution_count": 36,
   "metadata": {},
   "outputs": [
    {
     "data": {
      "application/vnd.jupyter.widget-view+json": {
       "model_id": "",
       "version_major": 2,
       "version_minor": 0
      },
      "text/plain": [
       "FloatProgress(value=0.0, bar_style='info', description='Progress:', layout=Layout(height='25px', width='50%'),…"
      ]
     },
     "metadata": {},
     "output_type": "display_data"
    },
    {
     "name": "stdout",
     "output_type": "stream",
     "text": [
      "s: Long = 638168608222291\n",
      "predictionsLR: org.apache.spark.sql.DataFrame = [V1: double, V2: double ... 35 more fields]\n",
      "durationprediction: Double = 0.215285272\n",
      "\n",
      "initial model training finished.\n",
      "Training process takes 0.215285272 secs\n",
      "+----------+-----+--------------------+\n",
      "|prediction|label|            features|\n",
      "+----------+-----+--------------------+\n",
      "|       0.0|  0.0|[0.80345987710294...|\n",
      "|       0.0|  0.0|[0.81607634463416...|\n",
      "|       0.0|  0.0|[0.83176453231324...|\n",
      "|       0.0|  0.0|[0.82939280217800...|\n",
      "|       0.0|  0.0|[0.82856290285761...|\n",
      "+----------+-----+--------------------+\n",
      "only showing top 5 rows\n",
      "\n"
     ]
    }
   ],
   "source": [
    "val s = System.nanoTime\n",
    "val predictionsLR = Modellr.transform(validationData)\n",
    "val durationprediction = (System.nanoTime - s) / 1e9d\n",
    "println(\"\\ninitial model training finished.\")\n",
    "println(s\"Training process takes $durationprediction secs\")\n",
    "predictionsLR.select(\"prediction\", \"label\", \"features\").show(5)"
   ]
  },
  {
   "cell_type": "code",
   "execution_count": 37,
   "metadata": {},
   "outputs": [
    {
     "data": {
      "application/vnd.jupyter.widget-view+json": {
       "model_id": "",
       "version_major": 2,
       "version_minor": 0
      },
      "text/plain": [
       "FloatProgress(value=0.0, bar_style='info', description='Progress:', layout=Layout(height='25px', width='50%'),…"
      ]
     },
     "metadata": {},
     "output_type": "display_data"
    },
    {
     "name": "stdout",
     "output_type": "stream",
     "text": [
      "Classified test set :\n",
      "+-----+-----+\n",
      "|Class|count|\n",
      "+-----+-----+\n",
      "|  0.0|85480|\n",
      "|  1.0|  197|\n",
      "+-----+-----+\n",
      "\n",
      "Prediction :\n",
      "+----------+-----+\n",
      "|prediction|count|\n",
      "+----------+-----+\n",
      "|       0.0|85607|\n",
      "|       1.0|   70|\n",
      "+----------+-----+\n",
      "\n"
     ]
    }
   ],
   "source": [
    "println(s\"Classified test set :\")\n",
    "validationData.groupBy(\"Class\").count().show()\n",
    "println(s\"Prediction :\")\n",
    "predictionsLR.groupBy(\"prediction\").count().show()"
   ]
  },
  {
   "cell_type": "code",
   "execution_count": 38,
   "metadata": {},
   "outputs": [
    {
     "data": {
      "application/vnd.jupyter.widget-view+json": {
       "model_id": "",
       "version_major": 2,
       "version_minor": 0
      },
      "text/plain": [
       "FloatProgress(value=0.0, bar_style='info', description='Progress:', layout=Layout(height='25px', width='50%'),…"
      ]
     },
     "metadata": {},
     "output_type": "display_data"
    },
    {
     "name": "stdout",
     "output_type": "stream",
     "text": [
      "Matrice de confusion :\n",
      "+----------+-----+-----+\n",
      "|prediction|label|count|\n",
      "+----------+-----+-----+\n",
      "|       0.0|  0.0|85480|\n",
      "|       0.0|  1.0|  127|\n",
      "|       1.0|  1.0|   70|\n",
      "+----------+-----+-----+\n",
      "\n"
     ]
    }
   ],
   "source": [
    "println(s\"Matrice de confusion :\")\n",
    "predictionsLR.select(\"prediction\", \"label\").groupBy(\"prediction\", \"label\").count().orderBy(\"label\", \"prediction\").show()"
   ]
  },
  {
   "cell_type": "code",
   "execution_count": 39,
   "metadata": {},
   "outputs": [
    {
     "data": {
      "application/vnd.jupyter.widget-view+json": {
       "model_id": "",
       "version_major": 2,
       "version_minor": 0
      },
      "text/plain": [
       "FloatProgress(value=0.0, bar_style='info', description='Progress:', layout=Layout(height='25px', width='50%'),…"
      ]
     },
     "metadata": {},
     "output_type": "display_data"
    },
    {
     "name": "stdout",
     "output_type": "stream",
     "text": [
      "evaluator1: org.apache.spark.ml.evaluation.MulticlassClassificationEvaluator = mcEval_a3dac9222ad6\n",
      "evaluator2: org.apache.spark.ml.evaluation.MulticlassClassificationEvaluator = mcEval_ec89c6f7d14b\n",
      "evaluator3: org.apache.spark.ml.evaluation.MulticlassClassificationEvaluator = mcEval_2ec72ab5b6f7\n",
      "evaluator4: org.apache.spark.ml.evaluation.MulticlassClassificationEvaluator = mcEval_beaca3eff0f5\n",
      "areaUnderROC: org.apache.spark.ml.evaluation.BinaryClassificationEvaluator = binEval_57c811004651\n",
      "accuracy: Double = 0.998517688527843\n",
      "Area Under ROC Curve = 0.6776649746192893\n",
      "Accuracy = 0.998517688527843\n",
      "Precision = 0.9985198875718109\n",
      "Recall = 0.998517688527843\n",
      "F1 = 0.9981657039460605\n",
      "Test Error = 0.0014823114721570496\n"
     ]
    }
   ],
   "source": [
    "val evaluator1 = new MulticlassClassificationEvaluator().setLabelCol(\"label\").setPredictionCol(\"prediction\").setMetricName(\"accuracy\")\n",
    "val evaluator2 = new MulticlassClassificationEvaluator().setLabelCol(\"label\").setPredictionCol(\"prediction\").setMetricName(\"weightedPrecision\")\n",
    "val evaluator3 = new MulticlassClassificationEvaluator().setLabelCol(\"label\").setPredictionCol(\"prediction\").setMetricName(\"weightedRecall\")\n",
    "val evaluator4 = new MulticlassClassificationEvaluator().setLabelCol(\"label\").setPredictionCol(\"prediction\").setMetricName(\"f1\")\n",
    "val areaUnderROC = new BinaryClassificationEvaluator().setRawPredictionCol(\"prediction\").setLabelCol(\"label\").setMetricName(\"areaUnderROC\")\n",
    "val accuracy = evaluator1.evaluate(predictionsLR)\n",
    "println(\"Area Under ROC Curve = \" + areaUnderROC.evaluate(predictionsLR))\n",
    "println(\"Accuracy = \" + evaluator1.evaluate(predictionsLR))\n",
    "println(\"Precision = \" + evaluator2.evaluate(predictionsLR))\n",
    "println(\"Recall = \" + evaluator3.evaluate(predictionsLR))\n",
    "println(\"F1 = \" + evaluator4.evaluate(predictionsLR))\n",
    "println(\"Test Error = \" + (1.0 - accuracy))"
   ]
  },
  {
   "cell_type": "code",
   "execution_count": 40,
   "metadata": {},
   "outputs": [
    {
     "data": {
      "application/vnd.jupyter.widget-view+json": {
       "model_id": "",
       "version_major": 2,
       "version_minor": 0
      },
      "text/plain": [
       "FloatProgress(value=0.0, bar_style='info', description='Progress:', layout=Layout(height='25px', width='50%'),…"
      ]
     },
     "metadata": {},
     "output_type": "display_data"
    },
    {
     "name": "stdout",
     "output_type": "stream",
     "text": [
      "nb: org.apache.spark.ml.classification.NaiveBayes = nb_3d16f25856b5\n",
      "t: Long = 638178809553759\n"
     ]
    }
   ],
   "source": [
    "// Naive Bayes classifier\n",
    "// Train a NaiveBayes model.\n",
    "val nb = new NaiveBayes().setLabelCol(\"label\").setFeaturesCol(\"features\").setSmoothing(1.0)\n",
    "val t = System.nanoTime"
   ]
  },
  {
   "cell_type": "code",
   "execution_count": 41,
   "metadata": {},
   "outputs": [
    {
     "data": {
      "application/vnd.jupyter.widget-view+json": {
       "model_id": "",
       "version_major": 2,
       "version_minor": 0
      },
      "text/plain": [
       "FloatProgress(value=0.0, bar_style='info', description='Progress:', layout=Layout(height='25px', width='50%'),…"
      ]
     },
     "metadata": {},
     "output_type": "display_data"
    }
   ],
   "source": [
    "/*val scaler = new MinMaxScaler().setInputCol(\"features\").setOutputCol(\"featuresScaled\")\n",
    "val pipeline = new Pipeline().setStages(Array(scaler))\n",
    "val pipelineModel1 = pipeline.fit(trainingData)\n",
    "val pipelineModel2 = pipeline.fit(trainingData)\n",
    "val datatrain = pipelineModel1.transform(trainingData)\n",
    "val datatest = pipelineModel2.transform(validationData)*/"
   ]
  },
  {
   "cell_type": "code",
   "execution_count": 42,
   "metadata": {},
   "outputs": [
    {
     "data": {
      "application/vnd.jupyter.widget-view+json": {
       "model_id": "",
       "version_major": 2,
       "version_minor": 0
      },
      "text/plain": [
       "FloatProgress(value=0.0, bar_style='info', description='Progress:', layout=Layout(height='25px', width='50%'),…"
      ]
     },
     "metadata": {},
     "output_type": "display_data"
    },
    {
     "name": "stdout",
     "output_type": "stream",
     "text": [
      "modelNB: org.apache.spark.ml.classification.NaiveBayesModel = NaiveBayesModel (uid=nb_3d16f25856b5) with 2 classes\n",
      "durationtrain: Double = 1.504088299\n",
      "\n",
      "initial model training finished.\n",
      "Training process takes 1.504088299 secs\n"
     ]
    }
   ],
   "source": [
    "val modelNB = nb.fit(trainingData)\n",
    "val durationtrain = (System.nanoTime - t) / 1e9d\n",
    "println(\"\\ninitial model training finished.\")\n",
    "println(s\"Training process takes $durationtrain secs\")"
   ]
  },
  {
   "cell_type": "code",
   "execution_count": 43,
   "metadata": {},
   "outputs": [
    {
     "data": {
      "application/vnd.jupyter.widget-view+json": {
       "model_id": "",
       "version_major": 2,
       "version_minor": 0
      },
      "text/plain": [
       "FloatProgress(value=0.0, bar_style='info', description='Progress:', layout=Layout(height='25px', width='50%'),…"
      ]
     },
     "metadata": {},
     "output_type": "display_data"
    },
    {
     "name": "stdout",
     "output_type": "stream",
     "text": [
      "s: Long = 638180927249796\n",
      "predictionsNB: org.apache.spark.sql.DataFrame = [V1: double, V2: double ... 35 more fields]\n",
      "durationprediction: Double = 0.200728699\n",
      "\n",
      "initial model training finished.\n",
      "Training process takes 0.200728699 secs\n",
      "+----------+-----+\n",
      "|prediction|label|\n",
      "+----------+-----+\n",
      "|       0.0|  0.0|\n",
      "|       0.0|  0.0|\n",
      "|       0.0|  0.0|\n",
      "|       0.0|  0.0|\n",
      "|       0.0|  0.0|\n",
      "+----------+-----+\n",
      "only showing top 5 rows\n",
      "\n"
     ]
    }
   ],
   "source": [
    "val s = System.nanoTime\n",
    "val predictionsNB = modelNB.transform(validationData)\n",
    "val durationprediction = (System.nanoTime - s) / 1e9d\n",
    "println(\"\\ninitial model training finished.\")\n",
    "println(s\"Training process takes $durationprediction secs\")\n",
    "predictionsNB.select(\"prediction\", \"label\").show(5)"
   ]
  },
  {
   "cell_type": "code",
   "execution_count": 44,
   "metadata": {},
   "outputs": [
    {
     "data": {
      "application/vnd.jupyter.widget-view+json": {
       "model_id": "",
       "version_major": 2,
       "version_minor": 0
      },
      "text/plain": [
       "FloatProgress(value=0.0, bar_style='info', description='Progress:', layout=Layout(height='25px', width='50%'),…"
      ]
     },
     "metadata": {},
     "output_type": "display_data"
    },
    {
     "name": "stdout",
     "output_type": "stream",
     "text": [
      "Classified test set :\n",
      "+-----+-----+\n",
      "|Class|count|\n",
      "+-----+-----+\n",
      "|  0.0|85480|\n",
      "|  1.0|  197|\n",
      "+-----+-----+\n",
      "\n",
      "Prediction :\n",
      "+----------+-----+\n",
      "|prediction|count|\n",
      "+----------+-----+\n",
      "|       0.0|85677|\n",
      "+----------+-----+\n",
      "\n"
     ]
    }
   ],
   "source": [
    "println(s\"Classified test set :\")\n",
    "validationData.groupBy(\"Class\").count().show()\n",
    "println(s\"Prediction :\")\n",
    "predictionsNB.groupBy(\"prediction\").count().show()"
   ]
  },
  {
   "cell_type": "code",
   "execution_count": 45,
   "metadata": {},
   "outputs": [
    {
     "data": {
      "application/vnd.jupyter.widget-view+json": {
       "model_id": "",
       "version_major": 2,
       "version_minor": 0
      },
      "text/plain": [
       "FloatProgress(value=0.0, bar_style='info', description='Progress:', layout=Layout(height='25px', width='50%'),…"
      ]
     },
     "metadata": {},
     "output_type": "display_data"
    },
    {
     "name": "stdout",
     "output_type": "stream",
     "text": [
      "Matrice de confusion :\n",
      "+----------+-----+-----+\n",
      "|prediction|label|count|\n",
      "+----------+-----+-----+\n",
      "|       0.0|  0.0|85480|\n",
      "|       0.0|  1.0|  197|\n",
      "+----------+-----+-----+\n",
      "\n"
     ]
    }
   ],
   "source": [
    "println(s\"Matrice de confusion :\")\n",
    "predictionsNB.select(\"prediction\", \"label\").groupBy(\"prediction\", \"label\").count().orderBy(\"label\", \"prediction\").show()"
   ]
  },
  {
   "cell_type": "code",
   "execution_count": 46,
   "metadata": {},
   "outputs": [
    {
     "data": {
      "application/vnd.jupyter.widget-view+json": {
       "model_id": "",
       "version_major": 2,
       "version_minor": 0
      },
      "text/plain": [
       "FloatProgress(value=0.0, bar_style='info', description='Progress:', layout=Layout(height='25px', width='50%'),…"
      ]
     },
     "metadata": {},
     "output_type": "display_data"
    },
    {
     "name": "stdout",
     "output_type": "stream",
     "text": [
      "evaluator1: org.apache.spark.ml.evaluation.MulticlassClassificationEvaluator = mcEval_5643a6de63f0\n",
      "areaUnderROC: org.apache.spark.ml.evaluation.BinaryClassificationEvaluator = binEval_d900d41904e6\n",
      "accuracy: Double = 0.9977006664565753\n",
      "Area Under ROC Curve = 0.5\n",
      "Accuracy = 0.9977006664565753\n",
      "Test Error = 0.0022993335434247086\n"
     ]
    }
   ],
   "source": [
    "val evaluator1 = new MulticlassClassificationEvaluator().setLabelCol(\"label\").setPredictionCol(\"prediction\").setMetricName(\"accuracy\")\n",
    "val areaUnderROC = new BinaryClassificationEvaluator().setRawPredictionCol(\"prediction\").setLabelCol(\"label\").setMetricName(\"areaUnderROC\")\n",
    "val accuracy = evaluator1.evaluate(predictionsNB)\n",
    "println(\"Area Under ROC Curve = \" + areaUnderROC.evaluate(predictionsNB))\n",
    "println(\"Accuracy = \" + evaluator1.evaluate(predictionsNB))\n",
    "println(\"Test Error = \" + (1.0 - accuracy))"
   ]
  },
  {
   "cell_type": "code",
   "execution_count": 47,
   "metadata": {},
   "outputs": [
    {
     "data": {
      "application/vnd.jupyter.widget-view+json": {
       "model_id": "",
       "version_major": 2,
       "version_minor": 0
      },
      "text/plain": [
       "FloatProgress(value=0.0, bar_style='info', description='Progress:', layout=Layout(height='25px', width='50%'),…"
      ]
     },
     "metadata": {},
     "output_type": "display_data"
    },
    {
     "name": "stdout",
     "output_type": "stream",
     "text": [
      "t: Long = 638187958685713\n",
      "layers: Array[Int] = Array(11, 6, 3, 2)\n",
      "mlp: org.apache.spark.ml.classification.MultilayerPerceptronClassifier = mlpc_afef2ebfd571\n"
     ]
    }
   ],
   "source": [
    "// Multilayer Perceptron Classifier\n",
    "// create the trainer and set its parameters\n",
    "val t = System.nanoTime\n",
    "val layers = Array[Int] (11, 6, 3, 2)\n",
    "val mlp = new MultilayerPerceptronClassifier().setLayers(layers).setLabelCol(\"label\").setFeaturesCol(\"features\").setTol(1E-4).setBlockSize(128).setSeed(1234L).setMaxIter(25) "
   ]
  },
  {
   "cell_type": "code",
   "execution_count": 48,
   "metadata": {},
   "outputs": [
    {
     "data": {
      "application/vnd.jupyter.widget-view+json": {
       "model_id": "",
       "version_major": 2,
       "version_minor": 0
      },
      "text/plain": [
       "FloatProgress(value=0.0, bar_style='info', description='Progress:', layout=Layout(height='25px', width='50%'),…"
      ]
     },
     "metadata": {},
     "output_type": "display_data"
    },
    {
     "name": "stdout",
     "output_type": "stream",
     "text": [
      "modelMLP: org.apache.spark.ml.classification.MultilayerPerceptronClassificationModel = mlpc_afef2ebfd571\n",
      "durationtrain: Double = 13.247840213\n",
      "\n",
      "initial model training finished.\n",
      "Training process takes 13.247840213 secs\n"
     ]
    }
   ],
   "source": [
    "// Train a Multilayer Perceptron model.\n",
    "val modelMLP = mlp.fit(trainingData)\n",
    "val durationtrain = (System.nanoTime - t) / 1e9d\n",
    "println(\"\\ninitial model training finished.\")\n",
    "println(s\"Training process takes $durationtrain secs\")"
   ]
  },
  {
   "cell_type": "code",
   "execution_count": 49,
   "metadata": {},
   "outputs": [
    {
     "data": {
      "application/vnd.jupyter.widget-view+json": {
       "model_id": "",
       "version_major": 2,
       "version_minor": 0
      },
      "text/plain": [
       "FloatProgress(value=0.0, bar_style='info', description='Progress:', layout=Layout(height='25px', width='50%'),…"
      ]
     },
     "metadata": {},
     "output_type": "display_data"
    },
    {
     "name": "stdout",
     "output_type": "stream",
     "text": [
      "s: Long = 638202081230946\n",
      "predictionsMLP: org.apache.spark.sql.DataFrame = [V1: double, V2: double ... 35 more fields]\n",
      "durationprediction: Double = 0.205272327\n",
      "\n",
      "initial model training finished.\n",
      "Training process takes 0.205272327 secs\n",
      "+----------+-----+\n",
      "|prediction|label|\n",
      "+----------+-----+\n",
      "|       0.0|  0.0|\n",
      "|       0.0|  0.0|\n",
      "|       0.0|  0.0|\n",
      "|       0.0|  0.0|\n",
      "|       0.0|  0.0|\n",
      "+----------+-----+\n",
      "only showing top 5 rows\n",
      "\n"
     ]
    }
   ],
   "source": [
    "val s = System.nanoTime\n",
    "val predictionsMLP = modelMLP.transform(validationData)\n",
    "val durationprediction = (System.nanoTime - s) / 1e9d\n",
    "println(\"\\ninitial model training finished.\")\n",
    "println(s\"Training process takes $durationprediction secs\")\n",
    "predictionsMLP.select(\"prediction\",\"label\").show(5)"
   ]
  },
  {
   "cell_type": "code",
   "execution_count": 50,
   "metadata": {},
   "outputs": [
    {
     "data": {
      "application/vnd.jupyter.widget-view+json": {
       "model_id": "",
       "version_major": 2,
       "version_minor": 0
      },
      "text/plain": [
       "FloatProgress(value=0.0, bar_style='info', description='Progress:', layout=Layout(height='25px', width='50%'),…"
      ]
     },
     "metadata": {},
     "output_type": "display_data"
    },
    {
     "name": "stdout",
     "output_type": "stream",
     "text": [
      "Classified test set :\n",
      "+-----+-----+\n",
      "|Class|count|\n",
      "+-----+-----+\n",
      "|  0.0|85480|\n",
      "|  1.0|  197|\n",
      "+-----+-----+\n",
      "\n",
      "Prediction :\n",
      "+----------+-----+\n",
      "|prediction|count|\n",
      "+----------+-----+\n",
      "|       0.0|85496|\n",
      "|       1.0|  181|\n",
      "+----------+-----+\n",
      "\n"
     ]
    }
   ],
   "source": [
    "println(s\"Classified test set :\")\n",
    "validationData.groupBy(\"Class\").count().show()\n",
    "println(s\"Prediction :\")\n",
    "predictionsMLP.groupBy(\"prediction\").count().show()"
   ]
  },
  {
   "cell_type": "code",
   "execution_count": 51,
   "metadata": {},
   "outputs": [
    {
     "data": {
      "application/vnd.jupyter.widget-view+json": {
       "model_id": "",
       "version_major": 2,
       "version_minor": 0
      },
      "text/plain": [
       "FloatProgress(value=0.0, bar_style='info', description='Progress:', layout=Layout(height='25px', width='50%'),…"
      ]
     },
     "metadata": {},
     "output_type": "display_data"
    },
    {
     "name": "stdout",
     "output_type": "stream",
     "text": [
      "Matrice de confusion :\n",
      "+----------+-----+-----+\n",
      "|prediction|label|count|\n",
      "+----------+-----+-----+\n",
      "|       0.0|  0.0|85448|\n",
      "|       1.0|  0.0|   32|\n",
      "|       0.0|  1.0|   48|\n",
      "|       1.0|  1.0|  149|\n",
      "+----------+-----+-----+\n",
      "\n"
     ]
    }
   ],
   "source": [
    "println(s\"Matrice de confusion :\")\n",
    "predictionsMLP.select(\"prediction\", \"label\").groupBy(\"prediction\", \"label\").count().orderBy(\"label\", \"prediction\").show()"
   ]
  },
  {
   "cell_type": "code",
   "execution_count": 52,
   "metadata": {},
   "outputs": [
    {
     "data": {
      "application/vnd.jupyter.widget-view+json": {
       "model_id": "",
       "version_major": 2,
       "version_minor": 0
      },
      "text/plain": [
       "FloatProgress(value=0.0, bar_style='info', description='Progress:', layout=Layout(height='25px', width='50%'),…"
      ]
     },
     "metadata": {},
     "output_type": "display_data"
    },
    {
     "name": "stdout",
     "output_type": "stream",
     "text": [
      "evaluator1: org.apache.spark.ml.evaluation.MulticlassClassificationEvaluator = mcEval_e2f3e6de8039\n",
      "areaUnderROC: org.apache.spark.ml.evaluation.BinaryClassificationEvaluator = binEval_c272d59e9dcf\n",
      "accuracy: Double = 0.9990662604899798\n",
      "Area Under ROC Curve = 0.8779854105451687\n",
      "Accuracy = 0.9990662604899798\n",
      "Test Error = 9.337395100201817E-4\n"
     ]
    }
   ],
   "source": [
    "val evaluator1 = new MulticlassClassificationEvaluator().setLabelCol(\"label\").setPredictionCol(\"prediction\").setMetricName(\"accuracy\")\n",
    "val areaUnderROC = new BinaryClassificationEvaluator().setRawPredictionCol(\"prediction\").setLabelCol(\"label\").setMetricName(\"areaUnderROC\")\n",
    "val accuracy = evaluator1.evaluate(predictionsMLP)\n",
    "println(\"Area Under ROC Curve = \" + areaUnderROC.evaluate(predictionsMLP))\n",
    "println(\"Accuracy = \" + evaluator1.evaluate(predictionsMLP))\n",
    "println(\"Test Error = \" + (1.0 - accuracy))"
   ]
  },
  {
   "cell_type": "code",
   "execution_count": 53,
   "metadata": {},
   "outputs": [
    {
     "data": {
      "application/vnd.jupyter.widget-view+json": {
       "model_id": "",
       "version_major": 2,
       "version_minor": 0
      },
      "text/plain": [
       "FloatProgress(value=0.0, bar_style='info', description='Progress:', layout=Layout(height='25px', width='50%'),…"
      ]
     },
     "metadata": {},
     "output_type": "display_data"
    },
    {
     "name": "stdout",
     "output_type": "stream",
     "text": [
      "classifier: org.apache.spark.ml.classification.LogisticRegression = logreg_aa875fc95e45\n",
      "t: Long = 638210194288264\n"
     ]
    }
   ],
   "source": [
    "// One Vs Rest Classifier using Logistic Regression classifier\n",
    "val classifier = new LogisticRegression().setLabelCol(\"label\").setFeaturesCol(\"features\").setMaxIter(10).setTol(1E-6).setFitIntercept(true) \n",
    "val t = System.nanoTime"
   ]
  },
  {
   "cell_type": "code",
   "execution_count": 54,
   "metadata": {},
   "outputs": [
    {
     "data": {
      "application/vnd.jupyter.widget-view+json": {
       "model_id": "",
       "version_major": 2,
       "version_minor": 0
      },
      "text/plain": [
       "FloatProgress(value=0.0, bar_style='info', description='Progress:', layout=Layout(height='25px', width='50%'),…"
      ]
     },
     "metadata": {},
     "output_type": "display_data"
    },
    {
     "name": "stdout",
     "output_type": "stream",
     "text": [
      "ovr: org.apache.spark.ml.classification.OneVsRest = oneVsRest_7661af47fa0c\n",
      "Modelovr: org.apache.spark.ml.classification.OneVsRestModel = oneVsRest_7661af47fa0c\n",
      "durationtrain: Double = 7.020285597\n",
      "\n",
      "initial model training finished.\n",
      "Training process takes 7.020285597 secs\n"
     ]
    }
   ],
   "source": [
    "// train the multiclass model.\n",
    "val ovr = new OneVsRest().setClassifier(classifier)\n",
    "val Modelovr = ovr.fit(trainingData)\n",
    "val durationtrain = (System.nanoTime - t) / 1e9d\n",
    "println(\"\\ninitial model training finished.\")\n",
    "println(s\"Training process takes $durationtrain secs\")"
   ]
  },
  {
   "cell_type": "code",
   "execution_count": 55,
   "metadata": {},
   "outputs": [
    {
     "data": {
      "application/vnd.jupyter.widget-view+json": {
       "model_id": "",
       "version_major": 2,
       "version_minor": 0
      },
      "text/plain": [
       "FloatProgress(value=0.0, bar_style='info', description='Progress:', layout=Layout(height='25px', width='50%'),…"
      ]
     },
     "metadata": {},
     "output_type": "display_data"
    },
    {
     "name": "stdout",
     "output_type": "stream",
     "text": [
      "s: Long = 638218157228275\n",
      "predictionsOVR: org.apache.spark.sql.DataFrame = [V1: double, V2: double ... 34 more fields]\n",
      "durationprediction: Double = 0.35484091\n",
      "\n",
      "initial model training finished.\n",
      "Training process takes 0.35484091 secs\n",
      "+----------+-----+--------------------+\n",
      "|prediction|label|            features|\n",
      "+----------+-----+--------------------+\n",
      "|       0.0|  0.0|[0.80345987710294...|\n",
      "|       0.0|  0.0|[0.81607634463416...|\n",
      "|       0.0|  0.0|[0.83176453231324...|\n",
      "|       0.0|  0.0|[0.82939280217800...|\n",
      "|       0.0|  0.0|[0.82856290285761...|\n",
      "+----------+-----+--------------------+\n",
      "only showing top 5 rows\n",
      "\n"
     ]
    }
   ],
   "source": [
    "val s = System.nanoTime\n",
    "val predictionsOVR = Modelovr.transform(validationData)\n",
    "val durationprediction = (System.nanoTime - s) / 1e9d\n",
    "println(\"\\ninitial model training finished.\")\n",
    "println(s\"Training process takes $durationprediction secs\")\n",
    "predictionsOVR.select(\"prediction\", \"label\", \"features\").show(5)"
   ]
  },
  {
   "cell_type": "code",
   "execution_count": 56,
   "metadata": {},
   "outputs": [
    {
     "data": {
      "application/vnd.jupyter.widget-view+json": {
       "model_id": "",
       "version_major": 2,
       "version_minor": 0
      },
      "text/plain": [
       "FloatProgress(value=0.0, bar_style='info', description='Progress:', layout=Layout(height='25px', width='50%'),…"
      ]
     },
     "metadata": {},
     "output_type": "display_data"
    },
    {
     "name": "stdout",
     "output_type": "stream",
     "text": [
      "Classified test set :\n",
      "+-----+-----+\n",
      "|Class|count|\n",
      "+-----+-----+\n",
      "|  0.0|85480|\n",
      "|  1.0|  197|\n",
      "+-----+-----+\n",
      "\n",
      "Prediction :\n",
      "+----------+-----+\n",
      "|prediction|count|\n",
      "+----------+-----+\n",
      "|       0.0|85607|\n",
      "|       1.0|   70|\n",
      "+----------+-----+\n",
      "\n"
     ]
    }
   ],
   "source": [
    "println(s\"Classified test set :\")\n",
    "validationData.groupBy(\"Class\").count().show()\n",
    "println(s\"Prediction :\")\n",
    "predictionsOVR.groupBy(\"prediction\").count().show()"
   ]
  },
  {
   "cell_type": "code",
   "execution_count": 57,
   "metadata": {},
   "outputs": [
    {
     "data": {
      "application/vnd.jupyter.widget-view+json": {
       "model_id": "",
       "version_major": 2,
       "version_minor": 0
      },
      "text/plain": [
       "FloatProgress(value=0.0, bar_style='info', description='Progress:', layout=Layout(height='25px', width='50%'),…"
      ]
     },
     "metadata": {},
     "output_type": "display_data"
    },
    {
     "name": "stdout",
     "output_type": "stream",
     "text": [
      "Matrice de confusion :\n",
      "+----------+-----+-----+\n",
      "|prediction|label|count|\n",
      "+----------+-----+-----+\n",
      "|       0.0|  0.0|85480|\n",
      "|       0.0|  1.0|  127|\n",
      "|       1.0|  1.0|   70|\n",
      "+----------+-----+-----+\n",
      "\n"
     ]
    }
   ],
   "source": [
    "println(s\"Matrice de confusion :\")\n",
    "predictionsOVR.select(\"prediction\", \"label\").groupBy(\"prediction\", \"label\").count().orderBy(\"label\", \"prediction\").show()"
   ]
  },
  {
   "cell_type": "code",
   "execution_count": 58,
   "metadata": {},
   "outputs": [
    {
     "data": {
      "application/vnd.jupyter.widget-view+json": {
       "model_id": "",
       "version_major": 2,
       "version_minor": 0
      },
      "text/plain": [
       "FloatProgress(value=0.0, bar_style='info', description='Progress:', layout=Layout(height='25px', width='50%'),…"
      ]
     },
     "metadata": {},
     "output_type": "display_data"
    },
    {
     "name": "stdout",
     "output_type": "stream",
     "text": [
      "evaluator1: org.apache.spark.ml.evaluation.MulticlassClassificationEvaluator = mcEval_29f006fcc9a9\n",
      "evaluator2: org.apache.spark.ml.evaluation.MulticlassClassificationEvaluator = mcEval_8f67e19709d5\n",
      "evaluator3: org.apache.spark.ml.evaluation.MulticlassClassificationEvaluator = mcEval_e416e33c32fd\n",
      "evaluator4: org.apache.spark.ml.evaluation.MulticlassClassificationEvaluator = mcEval_00d6d3e3a3c4\n",
      "areaUnderROC: org.apache.spark.ml.evaluation.BinaryClassificationEvaluator = binEval_cc8787edfd0a\n",
      "areaUnderPR: org.apache.spark.ml.evaluation.BinaryClassificationEvaluator = binEval_6db7dfa0cd87\n",
      "accuracy: Double = 0.998517688527843\n",
      "Area Under ROC Curve = 0.6776649746192893\n",
      "Area Under the Precision-Recall Curve = 0.6784061303553679\n",
      "Accuracy = 0.998517688527843\n",
      "Precision = 0.9985198875718109\n",
      "Recall = 0.998517688527843\n",
      "F1 = 0.9981657039460605\n",
      "Test Error = 0.0014823114721570496\n"
     ]
    }
   ],
   "source": [
    "val evaluator1 = new MulticlassClassificationEvaluator().setLabelCol(\"label\").setPredictionCol(\"prediction\").setMetricName(\"accuracy\")\n",
    "val evaluator2 = new MulticlassClassificationEvaluator().setLabelCol(\"label\").setPredictionCol(\"prediction\").setMetricName(\"weightedPrecision\")\n",
    "val evaluator3 = new MulticlassClassificationEvaluator().setLabelCol(\"label\").setPredictionCol(\"prediction\").setMetricName(\"weightedRecall\")\n",
    "val evaluator4 = new MulticlassClassificationEvaluator().setLabelCol(\"label\").setPredictionCol(\"prediction\").setMetricName(\"f1\")\n",
    "val areaUnderROC = new BinaryClassificationEvaluator().setRawPredictionCol(\"prediction\").setLabelCol(\"label\").setMetricName(\"areaUnderROC\")\n",
    "val areaUnderPR = new BinaryClassificationEvaluator().setRawPredictionCol(\"prediction\").setLabelCol(\"label\").setMetricName(\"areaUnderPR\")\n",
    "val accuracy = evaluator1.evaluate(predictionsOVR)\n",
    "println(\"Area Under ROC Curve = \" + areaUnderROC.evaluate(predictionsOVR))\n",
    "println(\"Area Under the Precision-Recall Curve = \"  + areaUnderPR.evaluate(predictionsOVR))\n",
    "println(\"Accuracy = \" + evaluator1.evaluate(predictionsOVR))\n",
    "println(\"Precision = \" + evaluator2.evaluate(predictionsOVR))\n",
    "println(\"Recall = \" + evaluator3.evaluate(predictionsOVR))\n",
    "println(\"F1 = \" + evaluator4.evaluate(predictionsOVR))\n",
    "println(\"Test Error = \" + (1.0 - accuracy))"
   ]
  }
 ],
 "metadata": {
  "kernelspec": {
   "display_name": "Spark",
   "language": "",
   "name": "sparkkernel"
  },
  "language_info": {
   "codemirror_mode": "text/x-scala",
   "mimetype": "text/x-scala",
   "name": "scala",
   "pygments_lexer": "scala"
  }
 },
 "nbformat": 4,
 "nbformat_minor": 4
}
